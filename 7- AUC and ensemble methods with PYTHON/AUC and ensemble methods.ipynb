{
 "cells": [
  {
   "cell_type": "markdown",
   "metadata": {},
   "source": [
    "## Programming exercises"
   ]
  },
  {
   "cell_type": "markdown",
   "metadata": {},
   "source": [
    "### 9.1 The receiver operating characteristic (ROC)"
   ]
  },
  {
   "cell_type": "code",
   "execution_count": 1,
   "metadata": {},
   "outputs": [],
   "source": [
    "import numpy as np\n",
    "import pandas as pd\n",
    "import matplotlib.pyplot as plt\n",
    "from scipy.io import loadmat\n",
    "from sklearn.model_selection import StratifiedKFold\n",
    "from sklearn.linear_model import LogisticRegression\n",
    "from sklearn.metrics import confusion_matrix,roc_curve,auc"
   ]
  },
  {
   "cell_type": "code",
   "execution_count": 3,
   "metadata": {
    "scrolled": true
   },
   "outputs": [
    {
     "name": "stdout",
     "output_type": "stream",
     "text": [
      "(6304, 12)\n"
     ]
    },
    {
     "data": {
      "text/html": [
       "<div>\n",
       "<style scoped>\n",
       "    .dataframe tbody tr th:only-of-type {\n",
       "        vertical-align: middle;\n",
       "    }\n",
       "\n",
       "    .dataframe tbody tr th {\n",
       "        vertical-align: top;\n",
       "    }\n",
       "\n",
       "    .dataframe thead th {\n",
       "        text-align: right;\n",
       "    }\n",
       "</style>\n",
       "<table border=\"1\" class=\"dataframe\">\n",
       "  <thead>\n",
       "    <tr style=\"text-align: right;\">\n",
       "      <th></th>\n",
       "      <th>Fixed acidity</th>\n",
       "      <th>Volatile acidity</th>\n",
       "      <th>Citric acid</th>\n",
       "      <th>Residual sugar</th>\n",
       "      <th>Chlorides</th>\n",
       "      <th>Free sulfur dioxide</th>\n",
       "      <th>Total sulfur dioxide</th>\n",
       "      <th>Density</th>\n",
       "      <th>pH</th>\n",
       "      <th>Sulphates</th>\n",
       "      <th>Alcohol</th>\n",
       "      <th>y</th>\n",
       "    </tr>\n",
       "  </thead>\n",
       "  <tbody>\n",
       "    <tr>\n",
       "      <td>6295</td>\n",
       "      <td>4.9</td>\n",
       "      <td>0.235</td>\n",
       "      <td>0.27</td>\n",
       "      <td>11.75</td>\n",
       "      <td>0.030</td>\n",
       "      <td>34.0</td>\n",
       "      <td>118.0</td>\n",
       "      <td>0.99540</td>\n",
       "      <td>3.07</td>\n",
       "      <td>0.50</td>\n",
       "      <td>9.4</td>\n",
       "      <td>1</td>\n",
       "    </tr>\n",
       "    <tr>\n",
       "      <td>6296</td>\n",
       "      <td>6.1</td>\n",
       "      <td>0.340</td>\n",
       "      <td>0.29</td>\n",
       "      <td>2.20</td>\n",
       "      <td>0.036</td>\n",
       "      <td>25.0</td>\n",
       "      <td>100.0</td>\n",
       "      <td>0.98938</td>\n",
       "      <td>3.06</td>\n",
       "      <td>0.44</td>\n",
       "      <td>11.8</td>\n",
       "      <td>1</td>\n",
       "    </tr>\n",
       "    <tr>\n",
       "      <td>6297</td>\n",
       "      <td>5.7</td>\n",
       "      <td>0.210</td>\n",
       "      <td>0.32</td>\n",
       "      <td>0.90</td>\n",
       "      <td>0.038</td>\n",
       "      <td>38.0</td>\n",
       "      <td>121.0</td>\n",
       "      <td>0.99074</td>\n",
       "      <td>3.24</td>\n",
       "      <td>0.46</td>\n",
       "      <td>10.6</td>\n",
       "      <td>1</td>\n",
       "    </tr>\n",
       "    <tr>\n",
       "      <td>6298</td>\n",
       "      <td>6.5</td>\n",
       "      <td>0.230</td>\n",
       "      <td>0.38</td>\n",
       "      <td>1.30</td>\n",
       "      <td>0.032</td>\n",
       "      <td>29.0</td>\n",
       "      <td>112.0</td>\n",
       "      <td>0.99298</td>\n",
       "      <td>3.29</td>\n",
       "      <td>0.54</td>\n",
       "      <td>9.7</td>\n",
       "      <td>1</td>\n",
       "    </tr>\n",
       "    <tr>\n",
       "      <td>6299</td>\n",
       "      <td>6.2</td>\n",
       "      <td>0.210</td>\n",
       "      <td>0.29</td>\n",
       "      <td>1.60</td>\n",
       "      <td>0.039</td>\n",
       "      <td>24.0</td>\n",
       "      <td>92.0</td>\n",
       "      <td>0.99114</td>\n",
       "      <td>3.27</td>\n",
       "      <td>0.50</td>\n",
       "      <td>11.2</td>\n",
       "      <td>1</td>\n",
       "    </tr>\n",
       "    <tr>\n",
       "      <td>6300</td>\n",
       "      <td>6.6</td>\n",
       "      <td>0.320</td>\n",
       "      <td>0.36</td>\n",
       "      <td>8.00</td>\n",
       "      <td>0.047</td>\n",
       "      <td>57.0</td>\n",
       "      <td>168.0</td>\n",
       "      <td>0.99490</td>\n",
       "      <td>3.15</td>\n",
       "      <td>0.46</td>\n",
       "      <td>9.6</td>\n",
       "      <td>1</td>\n",
       "    </tr>\n",
       "    <tr>\n",
       "      <td>6301</td>\n",
       "      <td>6.5</td>\n",
       "      <td>0.240</td>\n",
       "      <td>0.19</td>\n",
       "      <td>1.20</td>\n",
       "      <td>0.041</td>\n",
       "      <td>30.0</td>\n",
       "      <td>111.0</td>\n",
       "      <td>0.99254</td>\n",
       "      <td>2.99</td>\n",
       "      <td>0.46</td>\n",
       "      <td>9.4</td>\n",
       "      <td>1</td>\n",
       "    </tr>\n",
       "    <tr>\n",
       "      <td>6302</td>\n",
       "      <td>5.5</td>\n",
       "      <td>0.290</td>\n",
       "      <td>0.30</td>\n",
       "      <td>1.10</td>\n",
       "      <td>0.022</td>\n",
       "      <td>20.0</td>\n",
       "      <td>110.0</td>\n",
       "      <td>0.98869</td>\n",
       "      <td>3.34</td>\n",
       "      <td>0.38</td>\n",
       "      <td>12.8</td>\n",
       "      <td>1</td>\n",
       "    </tr>\n",
       "    <tr>\n",
       "      <td>6303</td>\n",
       "      <td>6.0</td>\n",
       "      <td>0.210</td>\n",
       "      <td>0.38</td>\n",
       "      <td>0.80</td>\n",
       "      <td>0.020</td>\n",
       "      <td>22.0</td>\n",
       "      <td>98.0</td>\n",
       "      <td>0.98941</td>\n",
       "      <td>3.26</td>\n",
       "      <td>0.32</td>\n",
       "      <td>11.8</td>\n",
       "      <td>1</td>\n",
       "    </tr>\n",
       "  </tbody>\n",
       "</table>\n",
       "</div>"
      ],
      "text/plain": [
       "      Fixed acidity  Volatile acidity  Citric acid  Residual sugar  Chlorides  \\\n",
       "6295            4.9             0.235         0.27           11.75      0.030   \n",
       "6296            6.1             0.340         0.29            2.20      0.036   \n",
       "6297            5.7             0.210         0.32            0.90      0.038   \n",
       "6298            6.5             0.230         0.38            1.30      0.032   \n",
       "6299            6.2             0.210         0.29            1.60      0.039   \n",
       "6300            6.6             0.320         0.36            8.00      0.047   \n",
       "6301            6.5             0.240         0.19            1.20      0.041   \n",
       "6302            5.5             0.290         0.30            1.10      0.022   \n",
       "6303            6.0             0.210         0.38            0.80      0.020   \n",
       "\n",
       "      Free sulfur dioxide  Total sulfur dioxide  Density    pH  Sulphates  \\\n",
       "6295                 34.0                 118.0  0.99540  3.07       0.50   \n",
       "6296                 25.0                 100.0  0.98938  3.06       0.44   \n",
       "6297                 38.0                 121.0  0.99074  3.24       0.46   \n",
       "6298                 29.0                 112.0  0.99298  3.29       0.54   \n",
       "6299                 24.0                  92.0  0.99114  3.27       0.50   \n",
       "6300                 57.0                 168.0  0.99490  3.15       0.46   \n",
       "6301                 30.0                 111.0  0.99254  2.99       0.46   \n",
       "6302                 20.0                 110.0  0.98869  3.34       0.38   \n",
       "6303                 22.0                  98.0  0.98941  3.26       0.32   \n",
       "\n",
       "      Alcohol  y  \n",
       "6295      9.4  1  \n",
       "6296     11.8  1  \n",
       "6297     10.6  1  \n",
       "6298      9.7  1  \n",
       "6299     11.2  1  \n",
       "6300      9.6  1  \n",
       "6301      9.4  1  \n",
       "6302     12.8  1  \n",
       "6303     11.8  1  "
      ]
     },
     "execution_count": 3,
     "metadata": {},
     "output_type": "execute_result"
    }
   ],
   "source": [
    "# Load Matlab data file and extract variables of interest\n",
    "mat_data = loadmat('wine2.mat')\n",
    "X = np.matrix(mat_data['X'])\n",
    "y = np.matrix(mat_data['y'], dtype=int)\n",
    "attributeNames = [name[0] for name in mat_data['attributeNames'][0]]\n",
    "classNames = [name[0][0] for name in mat_data['classNames']]\n",
    "N, M = X.shape\n",
    "C = len(classNames)\n",
    "\n",
    "df=pd.DataFrame(X).set_axis(attributeNames,axis=1,inplace=False)\n",
    "df[\"y\"]=y\n",
    "print(df.shape)\n",
    "df.tail(9)"
   ]
  },
  {
   "cell_type": "markdown",
   "metadata": {},
   "source": [
    "**Function 1:** ROC plot"
   ]
  },
  {
   "cell_type": "code",
   "execution_count": 4,
   "metadata": {},
   "outputs": [],
   "source": [
    "def ROC (tpr,fpr,roc_auc):\n",
    "    plt.plot(tpr, fpr, color='r',label='ROC curve (area = %0.3f)' % roc_auc)\n",
    "    plt.plot([0, 1], [0, 1], color='navy', linestyle='--')\n",
    "    plt.xlim([-0.01,1.01]); plt.ylim([-0.01,1.01])\n",
    "    plt.xticks(np.arange(0,1.1,.1)); plt.yticks(np.arange(0,1.1,.1))\n",
    "    plt.xlabel('False positive rate (1-Specificity)')\n",
    "    plt.ylabel('True positive rate (Sensitivity)')\n",
    "    plt.legend(loc=\"lower right\")\n",
    "    plt.grid()"
   ]
  },
  {
   "cell_type": "markdown",
   "metadata": {},
   "source": [
    "**Function 2:** Confusion matrix plot"
   ]
  },
  {
   "cell_type": "code",
   "execution_count": 5,
   "metadata": {},
   "outputs": [],
   "source": [
    "def plot_cm(y_test, y_est):\n",
    "    cm = confusion_matrix(y_test, y_est);\n",
    "    accuracy = np.round(100*cm.diagonal().sum()/cm.sum(),2); error_rate = np.round(100-accuracy,2)\n",
    "    plt.imshow(cm, cmap='binary', interpolation='None')\n",
    "    plt.colorbar()\n",
    "    plt.xticks(range(C)); plt.yticks(range(C));\n",
    "    plt.xlabel('Predicted class'); plt.ylabel('Actual class');\n",
    "    plt.title('Confusion matrix (Accuracy: {0}%, Error Rate: {1}%)'.format(accuracy, error_rate));\n",
    "\n"
   ]
  },
  {
   "cell_type": "code",
   "execution_count": 6,
   "metadata": {},
   "outputs": [
    {
     "data": {
      "image/png": "[encoded data removed]",
      "text/plain": [
       "<Figure size 360x360 with 1 Axes>"
      ]
     },
     "metadata": {
      "needs_background": "light"
     },
     "output_type": "display_data"
    },
    {
     "data": {
      "image/png": "[encoded data removed]",
      "text/plain": [
       "<Figure size 432x288 with 2 Axes>"
      ]
     },
     "metadata": {
      "needs_background": "light"
     },
     "output_type": "display_data"
    },
    {
     "data": {
      "image/png": "[encoded data removed]",
      "text/plain": [
       "<Figure size 360x360 with 1 Axes>"
      ]
     },
     "metadata": {
      "needs_background": "light"
     },
     "output_type": "display_data"
    },
    {
     "data": {
      "image/png": "[encoded data removed]",
      "text/plain": [
       "<Figure size 432x288 with 2 Axes>"
      ]
     },
     "metadata": {
      "needs_background": "light"
     },
     "output_type": "display_data"
    }
   ],
   "source": [
    "# K-fold crossvalidation\n",
    "K = 2\n",
    "\"\"\"Use StratifiedKFold method to ensure that training and test sets \n",
    "have roughly equal class proportions (stratification)\"\"\"\n",
    "\n",
    "\"\"\" pd.value_counts(np.array(y_train).flatten())/len(y_train)== \n",
    "pd.value_counts(np.array(y_test).flatten())/len(y_test)\"\"\"\n",
    "\n",
    "CV = StratifiedKFold(K)\n",
    "\n",
    "k=1\n",
    "for train_index, test_index in CV.split(X,y):\n",
    "\n",
    "    # extract training and test set for current CV fold\n",
    "    X_train, y_train = X[train_index], y[train_index]\n",
    "    X_test, y_test = X[test_index], y[test_index]\n",
    "\n",
    "    logit_classifier = LogisticRegression(solver=\"lbfgs\", max_iter=1000)\n",
    "    logit_classifier.fit(X_train, np.array(y_train).flatten())\n",
    "\n",
    "    y_test_est = np.array(logit_classifier.predict(X_test)).flatten()\n",
    "    ## Predicted probabilities for the label of 1     \n",
    "    p = logit_classifier.predict_proba(X_test)[:,1]\n",
    "    ## Predicted probabilities for the label of 0\n",
    "    #1-p=ogit_classifier.predict_proba(X_test)[:,0]\n",
    "    tpr=roc_curve(y_test,p)[0] # True Positive rate\n",
    "    fpr=roc_curve(y_test,p)[1] # False Positive rate\n",
    "    AUC=auc(tpr,fpr)    # Area under Curve\n",
    "    \n",
    "    plt.figure(figsize=(5,5))    \n",
    "    plt.figure(k)\n",
    "    ROC(tpr,fpr,AUC)  \n",
    "    \n",
    "    plt.figure(k+1)      \n",
    "    plot_cm(y_test,y_test_est)\n",
    "    \n",
    "    k+=2\n",
    "   \n"
   ]
  },
  {
   "cell_type": "markdown",
   "metadata": {},
   "source": [
    "We want to examine how well the type of wine can be classified using only the `Alcohol` attribute."
   ]
  },
  {
   "cell_type": "code",
   "execution_count": 7,
   "metadata": {},
   "outputs": [],
   "source": [
    "X=df[\"Alcohol\"]\n",
    "X=X.values.reshape(-1,1)"
   ]
  },
  {
   "cell_type": "code",
   "execution_count": 8,
   "metadata": {
    "scrolled": true
   },
   "outputs": [
    {
     "data": {
      "image/png": "[encoded data removed]",
      "text/plain": [
       "<Figure size 360x360 with 1 Axes>"
      ]
     },
     "metadata": {
      "needs_background": "light"
     },
     "output_type": "display_data"
    },
    {
     "data": {
      "image/png": "[encoded data removed]",
      "text/plain": [
       "<Figure size 432x288 with 2 Axes>"
      ]
     },
     "metadata": {
      "needs_background": "light"
     },
     "output_type": "display_data"
    },
    {
     "data": {
      "image/png": "[encoded data removed]",
      "text/plain": [
       "<Figure size 360x360 with 1 Axes>"
      ]
     },
     "metadata": {
      "needs_background": "light"
     },
     "output_type": "display_data"
    },
    {
     "data": {
      "image/png": "[encoded data removed]",
      "text/plain": [
       "<Figure size 432x288 with 2 Axes>"
      ]
     },
     "metadata": {
      "needs_background": "light"
     },
     "output_type": "display_data"
    }
   ],
   "source": [
    "\n",
    "# K-fold crossvalidation\n",
    "K = 2\n",
    "CV = StratifiedKFold(K)\n",
    "\n",
    "k=1\n",
    "for train_index, test_index in CV.split(X,y):\n",
    "\n",
    "    # extract training and test set for current CV fold\n",
    "    X_train, y_train = X[train_index], y[train_index]\n",
    "    X_test, y_test = X[test_index], y[test_index]\n",
    "\n",
    "    logit_classifier = LogisticRegression(solver=\"lbfgs\", max_iter=1000)\n",
    "    logit_classifier.fit(X_train, np.array(y_train).flatten())\n",
    "\n",
    "    y_test_est = np.array(logit_classifier.predict(X_test)).flatten()\n",
    "    ## Predicted probabilities for the label of 1     \n",
    "    p = logit_classifier.predict_proba(X_test)[:,1]\n",
    "    ## Predicted probabilities for the label of 0\n",
    "    #1-p=ogit_classifier.predict_proba(X_test)[:,0]\n",
    "    tpr=roc_curve(y_test,p)[0] # True Positive rate\n",
    "    fpr=roc_curve(y_test,p)[1] # False Positive rate\n",
    "    AUC=auc(tpr,fpr)    # Area under Curve\n",
    "    \n",
    "    plt.figure(figsize=(5,5))    \n",
    "    plt.figure(k)\n",
    "    ROC(tpr,fpr,AUC)  \n",
    "    \n",
    "    plt.figure(k+1)      \n",
    "    plot_cm(y_test,y_test_est)\n",
    "    \n",
    "    k+=2\n",
    "   "
   ]
  },
  {
   "cell_type": "markdown",
   "metadata": {},
   "source": [
    "### 9.2 Ensemble methods"
   ]
  },
  {
   "cell_type": "code",
   "execution_count": 9,
   "metadata": {},
   "outputs": [
    {
     "data": {
      "text/html": [
       "<div>\n",
       "<style scoped>\n",
       "    .dataframe tbody tr th:only-of-type {\n",
       "        vertical-align: middle;\n",
       "    }\n",
       "\n",
       "    .dataframe tbody tr th {\n",
       "        vertical-align: top;\n",
       "    }\n",
       "\n",
       "    .dataframe thead th {\n",
       "        text-align: right;\n",
       "    }\n",
       "</style>\n",
       "<table border=\"1\" class=\"dataframe\">\n",
       "  <thead>\n",
       "    <tr style=\"text-align: right;\">\n",
       "      <th></th>\n",
       "      <th>x1</th>\n",
       "      <th>x2</th>\n",
       "      <th>y</th>\n",
       "    </tr>\n",
       "  </thead>\n",
       "  <tbody>\n",
       "    <tr>\n",
       "      <td>0</td>\n",
       "      <td>0.020775</td>\n",
       "      <td>0.282897</td>\n",
       "      <td>0</td>\n",
       "    </tr>\n",
       "    <tr>\n",
       "      <td>1</td>\n",
       "      <td>0.216412</td>\n",
       "      <td>0.318091</td>\n",
       "      <td>0</td>\n",
       "    </tr>\n",
       "    <tr>\n",
       "      <td>2</td>\n",
       "      <td>0.172752</td>\n",
       "      <td>0.675529</td>\n",
       "      <td>1</td>\n",
       "    </tr>\n",
       "    <tr>\n",
       "      <td>3</td>\n",
       "      <td>0.773649</td>\n",
       "      <td>0.200813</td>\n",
       "      <td>0</td>\n",
       "    </tr>\n",
       "    <tr>\n",
       "      <td>4</td>\n",
       "      <td>0.692919</td>\n",
       "      <td>0.934092</td>\n",
       "      <td>1</td>\n",
       "    </tr>\n",
       "  </tbody>\n",
       "</table>\n",
       "</div>"
      ],
      "text/plain": [
       "         x1        x2  y\n",
       "0  0.020775  0.282897  0\n",
       "1  0.216412  0.318091  0\n",
       "2  0.172752  0.675529  1\n",
       "3  0.773649  0.200813  0\n",
       "4  0.692919  0.934092  1"
      ]
     },
     "execution_count": 9,
     "metadata": {},
     "output_type": "execute_result"
    }
   ],
   "source": [
    "# Load Matlab data file and extract variables of interest\n",
    "mat_data = loadmat('synth5.mat')\n",
    "X = np.matrix(mat_data['X'])\n",
    "y = np.matrix(mat_data['y'], dtype=int)\n",
    "attributeNames = [name[0] for name in mat_data['attributeNames'].squeeze()]\n",
    "classNames = [name[0][0] for name in mat_data['classNames']]\n",
    "N, M = X.shape\n",
    "C = len(classNames)\n",
    "\n",
    "df=pd.DataFrame(X).set_axis(attributeNames,axis=1,inplace=False)\n",
    "df[\"y\"]=y\n",
    "df.head()"
   ]
  },
  {
   "cell_type": "code",
   "execution_count": 10,
   "metadata": {},
   "outputs": [],
   "source": [
    "# exercise 9.2.1\n",
    "from sklearn.utils import resample\n",
    "# data sample\n",
    "L=100\n",
    "def bootstrap_sampling(df,N):\n",
    "    boot_df = resample(df, replace=True, n_samples=N)\n",
    "    X_train=boot_df.drop(\"y\",1)\n",
    "    y_train=boot_df[\"y\"]\n",
    "    return (X_train,y_train)"
   ]
  },
  {
   "cell_type": "code",
   "execution_count": 11,
   "metadata": {},
   "outputs": [
    {
     "name": "stdout",
     "output_type": "stream",
     "text": [
      "Error rate: 17.4%\n",
      "Error rate: 17.4%\n",
      "Error rate: 17.0%\n",
      "Error rate: 17.8%\n",
      "Error rate: 17.2%\n",
      "Error rate: 17.6%\n",
      "Error rate: 18.0%\n",
      "Error rate: 17.8%\n",
      "Error rate: 17.8%\n",
      "Error rate: 17.8%\n",
      "Error rate: 18.0%\n",
      "Error rate: 17.8%\n",
      "Error rate: 17.6%\n",
      "Error rate: 18.0%\n",
      "Error rate: 17.2%\n",
      "Error rate: 17.8%\n",
      "Error rate: 17.6%\n",
      "Error rate: 18.8%\n",
      "Error rate: 18.2%\n",
      "Error rate: 17.8%\n",
      "Error rate: 17.4%\n",
      "Error rate: 18.2%\n",
      "Error rate: 17.2%\n",
      "Error rate: 18.0%\n",
      "Error rate: 17.6%\n",
      "Error rate: 18.0%\n",
      "Error rate: 17.2%\n",
      "Error rate: 18.2%\n",
      "Error rate: 17.4%\n",
      "Error rate: 17.6%\n",
      "Error rate: 17.2%\n",
      "Error rate: 18.0%\n",
      "Error rate: 17.6%\n",
      "Error rate: 17.6%\n",
      "Error rate: 17.4%\n",
      "Error rate: 17.8%\n",
      "Error rate: 17.2%\n",
      "Error rate: 18.0%\n",
      "Error rate: 17.6%\n",
      "Error rate: 17.8%\n",
      "Error rate: 17.0%\n",
      "Error rate: 18.0%\n",
      "Error rate: 17.4%\n",
      "Error rate: 17.8%\n",
      "Error rate: 18.0%\n",
      "Error rate: 17.2%\n",
      "Error rate: 17.6%\n",
      "Error rate: 17.8%\n",
      "Error rate: 18.2%\n",
      "Error rate: 17.6%\n",
      "Error rate: 17.4%\n",
      "Error rate: 17.6%\n",
      "Error rate: 17.6%\n",
      "Error rate: 17.4%\n",
      "Error rate: 17.6%\n",
      "Error rate: 17.4%\n",
      "Error rate: 17.6%\n",
      "Error rate: 17.6%\n",
      "Error rate: 17.2%\n",
      "Error rate: 17.6%\n",
      "Error rate: 17.4%\n",
      "Error rate: 18.0%\n",
      "Error rate: 17.4%\n",
      "Error rate: 17.8%\n",
      "Error rate: 17.4%\n",
      "Error rate: 17.0%\n",
      "Error rate: 18.0%\n",
      "Error rate: 17.8%\n",
      "Error rate: 17.2%\n",
      "Error rate: 17.6%\n",
      "Error rate: 18.0%\n",
      "Error rate: 17.8%\n",
      "Error rate: 17.8%\n",
      "Error rate: 17.6%\n",
      "Error rate: 17.4%\n",
      "Error rate: 18.6%\n",
      "Error rate: 17.6%\n",
      "Error rate: 18.0%\n",
      "Error rate: 18.8%\n",
      "Error rate: 18.0%\n",
      "Error rate: 17.2%\n",
      "Error rate: 17.4%\n",
      "Error rate: 17.8%\n",
      "Error rate: 18.0%\n",
      "Error rate: 17.8%\n",
      "Error rate: 17.6%\n",
      "Error rate: 17.8%\n",
      "Error rate: 17.8%\n",
      "Error rate: 17.4%\n",
      "Error rate: 18.2%\n",
      "Error rate: 18.0%\n",
      "Error rate: 18.4%\n",
      "Error rate: 17.6%\n",
      "Error rate: 18.6%\n",
      "Error rate: 18.0%\n",
      "Error rate: 17.6%\n",
      "Error rate: 17.0%\n",
      "Error rate: 18.0%\n",
      "Error rate: 18.6%\n",
      "Error rate: 17.4%\n"
     ]
    }
   ],
   "source": [
    "N=X.shape[0]\n",
    "ErrorRate=[]\n",
    "\n",
    "treshold=0.5\n",
    "\n",
    "for l in range(L):\n",
    "    X_train,y_train=bootstrap_sampling(df,N)\n",
    "    logit_classifier = LogisticRegression(solver=\"lbfgs\", max_iter=1000)\n",
    "    logit_classifier.fit(X_train, np.array(y_train).flatten())\n",
    "    ## Predicted probabilities for the label of 1     \n",
    "    P= logit_classifier.predict_proba(X)[:,1] \n",
    "    y_est=[]\n",
    "    for p in P:\n",
    "        if p>treshold:\n",
    "            y_est.append(1)\n",
    "        else:\n",
    "            y_est.append(0)           \n",
    "    #y_est = logit_classifier.predict(X)\n",
    "    count=0\n",
    "    for a,b in zip(y,y_est):\n",
    "        if a!=b:\n",
    "            count+=1\n",
    "    print('Error rate: {:.1f}%'.format(count/len(y)*100))    \n",
    "    ErrorRate.append(count/len(y))"
   ]
  },
  {
   "cell_type": "code",
   "execution_count": 12,
   "metadata": {},
   "outputs": [
    {
     "data": {
      "text/html": [
       "<div>\n",
       "<style scoped>\n",
       "    .dataframe tbody tr th:only-of-type {\n",
       "        vertical-align: middle;\n",
       "    }\n",
       "\n",
       "    .dataframe tbody tr th {\n",
       "        vertical-align: top;\n",
       "    }\n",
       "\n",
       "    .dataframe thead th {\n",
       "        text-align: right;\n",
       "    }\n",
       "</style>\n",
       "<table border=\"1\" class=\"dataframe\">\n",
       "  <thead>\n",
       "    <tr style=\"text-align: right;\">\n",
       "      <th></th>\n",
       "      <th>x1</th>\n",
       "      <th>x2</th>\n",
       "      <th>y</th>\n",
       "    </tr>\n",
       "  </thead>\n",
       "  <tbody>\n",
       "    <tr>\n",
       "      <td>0</td>\n",
       "      <td>0.70</td>\n",
       "      <td>0.10</td>\n",
       "      <td>1</td>\n",
       "    </tr>\n",
       "    <tr>\n",
       "      <td>1</td>\n",
       "      <td>0.30</td>\n",
       "      <td>0.45</td>\n",
       "      <td>1</td>\n",
       "    </tr>\n",
       "    <tr>\n",
       "      <td>2</td>\n",
       "      <td>0.35</td>\n",
       "      <td>0.60</td>\n",
       "      <td>1</td>\n",
       "    </tr>\n",
       "    <tr>\n",
       "      <td>3</td>\n",
       "      <td>0.60</td>\n",
       "      <td>0.65</td>\n",
       "      <td>1</td>\n",
       "    </tr>\n",
       "    <tr>\n",
       "      <td>4</td>\n",
       "      <td>0.50</td>\n",
       "      <td>0.20</td>\n",
       "      <td>1</td>\n",
       "    </tr>\n",
       "  </tbody>\n",
       "</table>\n",
       "</div>"
      ],
      "text/plain": [
       "     x1    x2  y\n",
       "0  0.70  0.10  1\n",
       "1  0.30  0.45  1\n",
       "2  0.35  0.60  1\n",
       "3  0.60  0.65  1\n",
       "4  0.50  0.20  1"
      ]
     },
     "execution_count": 12,
     "metadata": {},
     "output_type": "execute_result"
    }
   ],
   "source": [
    "# Load Matlab data file and extract variables of interest\n",
    "mat_data = loadmat('synth6.mat')\n",
    "X = np.matrix(mat_data['X'])\n",
    "y = np.matrix(mat_data['y'], dtype=int)\n",
    "attributeNames = [name[0] for name in mat_data['attributeNames'].squeeze()]\n",
    "classNames = [name[0][0] for name in mat_data['classNames']]\n",
    "N, M = X.shape\n",
    "C = len(classNames)\n",
    "\n",
    "df=pd.DataFrame(X).set_axis(attributeNames,axis=1,inplace=False)\n",
    "df[\"y\"]=y\n",
    "df.head()"
   ]
  },
  {
   "cell_type": "markdown",
   "metadata": {},
   "source": [
    "### Application of Boostraping for prediction"
   ]
  },
  {
   "cell_type": "code",
   "execution_count": 13,
   "metadata": {},
   "outputs": [],
   "source": [
    "from sklearn.model_selection import train_test_split"
   ]
  },
  {
   "cell_type": "code",
   "execution_count": 14,
   "metadata": {
    "scrolled": true
   },
   "outputs": [
    {
     "data": {
      "text/html": [
       "<div>\n",
       "<style scoped>\n",
       "    .dataframe tbody tr th:only-of-type {\n",
       "        vertical-align: middle;\n",
       "    }\n",
       "\n",
       "    .dataframe tbody tr th {\n",
       "        vertical-align: top;\n",
       "    }\n",
       "\n",
       "    .dataframe thead th {\n",
       "        text-align: right;\n",
       "    }\n",
       "</style>\n",
       "<table border=\"1\" class=\"dataframe\">\n",
       "  <thead>\n",
       "    <tr style=\"text-align: right;\">\n",
       "      <th></th>\n",
       "      <th>x1</th>\n",
       "      <th>x2</th>\n",
       "      <th>y</th>\n",
       "    </tr>\n",
       "  </thead>\n",
       "  <tbody>\n",
       "    <tr>\n",
       "      <td>0</td>\n",
       "      <td>0.020775</td>\n",
       "      <td>0.282897</td>\n",
       "      <td>0</td>\n",
       "    </tr>\n",
       "    <tr>\n",
       "      <td>1</td>\n",
       "      <td>0.216412</td>\n",
       "      <td>0.318091</td>\n",
       "      <td>0</td>\n",
       "    </tr>\n",
       "    <tr>\n",
       "      <td>2</td>\n",
       "      <td>0.172752</td>\n",
       "      <td>0.675529</td>\n",
       "      <td>1</td>\n",
       "    </tr>\n",
       "    <tr>\n",
       "      <td>3</td>\n",
       "      <td>0.773649</td>\n",
       "      <td>0.200813</td>\n",
       "      <td>0</td>\n",
       "    </tr>\n",
       "    <tr>\n",
       "      <td>4</td>\n",
       "      <td>0.692919</td>\n",
       "      <td>0.934092</td>\n",
       "      <td>1</td>\n",
       "    </tr>\n",
       "  </tbody>\n",
       "</table>\n",
       "</div>"
      ],
      "text/plain": [
       "         x1        x2  y\n",
       "0  0.020775  0.282897  0\n",
       "1  0.216412  0.318091  0\n",
       "2  0.172752  0.675529  1\n",
       "3  0.773649  0.200813  0\n",
       "4  0.692919  0.934092  1"
      ]
     },
     "execution_count": 14,
     "metadata": {},
     "output_type": "execute_result"
    }
   ],
   "source": [
    "# Load Matlab data file and extract variables of interest\n",
    "mat_data = loadmat('synth5.mat')\n",
    "X = np.matrix(mat_data['X'])\n",
    "y = np.matrix(mat_data['y'], dtype=int)\n",
    "attributeNames = [name[0] for name in mat_data['attributeNames'].squeeze()]\n",
    "classNames = [name[0][0] for name in mat_data['classNames']]\n",
    "N, M = X.shape\n",
    "C = len(classNames)\n",
    "\n",
    "df=pd.DataFrame(X).set_axis(attributeNames,axis=1,inplace=False)\n",
    "df[\"y\"]=y\n",
    "df.head()"
   ]
  },
  {
   "cell_type": "code",
   "execution_count": 15,
   "metadata": {},
   "outputs": [],
   "source": [
    "XX_train, XX_test, yy_train, yy_test = train_test_split(X, y, test_size=0.1, random_state=42)"
   ]
  },
  {
   "cell_type": "code",
   "execution_count": 16,
   "metadata": {},
   "outputs": [
    {
     "name": "stdout",
     "output_type": "stream",
     "text": [
      "50\n"
     ]
    }
   ],
   "source": [
    "L=1000\n",
    "N=X.shape[0]\n",
    "vote_list=[[] for _ in range(len(XX_test))]\n",
    "print(len(vote_list))\n",
    "\n",
    "for l in range(L):\n",
    "    X_train,y_train=bootstrap_sampling(df,N)\n",
    "    logit_classifier = LogisticRegression(solver=\"lbfgs\", max_iter=1000)\n",
    "    logit_classifier.fit(X_train, np.array(y_train).flatten())\n",
    "    y_est = logit_classifier.predict(XX_test)\n",
    "    for i in range(len(y_est)):\n",
    "        vote_list[i].append(y_est[i])\n",
    "y_est=[]\n",
    "for x in range(len(vote_list)):\n",
    "    if np.mean(vote_list[x])>0.5: y_est.append(1);\n",
    "    else: y_est.append(0);   \n"
   ]
  },
  {
   "cell_type": "markdown",
   "metadata": {},
   "source": [
    "### <font color='red'>How to calculate error...?</font> "
   ]
  },
  {
   "cell_type": "code",
   "execution_count": 17,
   "metadata": {},
   "outputs": [
    {
     "name": "stdout",
     "output_type": "stream",
     "text": [
      "Error rate= 0.18\n",
      "Error rate= 0.18\n"
     ]
    }
   ],
   "source": [
    "## Method 1:\n",
    "count=0\n",
    "for (a,b) in zip(np.array(y_est).reshape(-1,1),yy_test):\n",
    "    if a!=b: count+=1;\n",
    "print(\"Error rate=\", count/len(yy_test))  \n",
    "\n",
    "## Method 2:\n",
    "Error=(np.array(y_est).reshape(-1,1)!=yy_test).sum(dtype=float)/len(yy_test)\n",
    "print(\"Error rate=\", Error) "
   ]
  },
  {
   "cell_type": "markdown",
   "metadata": {},
   "source": [
    "## Boostrap using function  "
   ]
  },
  {
   "cell_type": "code",
   "execution_count": null,
   "metadata": {},
   "outputs": [],
   "source": [
    "# exercise 9.2.2"
   ]
  },
  {
   "cell_type": "code",
   "execution_count": 18,
   "metadata": {},
   "outputs": [],
   "source": [
    "def bootstrap_sampling(df,N):\n",
    "    boot_df = resample(df, replace=True, n_samples=N)\n",
    "    X_train=boot_df.drop(\"y\",1)\n",
    "    y_train=boot_df[\"y\"]\n",
    "    return (X_train,y_train)"
   ]
  },
  {
   "cell_type": "code",
   "execution_count": 19,
   "metadata": {},
   "outputs": [],
   "source": [
    "def bootstrap_sampling2(df,N,weights=None):\n",
    "    if np.any(weights==None):\n",
    "        weights=np.repeat(1/len(df),len(df))\n",
    "    selected_indices = np.random.choice(range(len(df)), size=(N), replace=True,p=weights)\n",
    "    boot_df=df.loc[selected_indices,:]\n",
    "    X_train=boot_df.drop(\"y\",1)\n",
    "    y_train=boot_df[\"y\"]\n",
    "    return (X_train,y_train)   "
   ]
  },
  {
   "cell_type": "code",
   "execution_count": 22,
   "metadata": {
    "scrolled": true
   },
   "outputs": [
    {
     "name": "stdout",
     "output_type": "stream",
     "text": [
      "Error rate: 17.4%\n",
      "Error rate: 18.0%\n",
      "Error rate: 17.2%\n",
      "Error rate: 17.8%\n",
      "Error rate: 17.2%\n",
      "Error rate: 17.8%\n",
      "Error rate: 17.2%\n",
      "Error rate: 17.4%\n",
      "Error rate: 17.599999999999998%\n",
      "Error rate: 17.599999999999998%\n",
      "Error rate: 18.0%\n",
      "Error rate: 18.2%\n",
      "Error rate: 17.4%\n",
      "Error rate: 17.599999999999998%\n",
      "Error rate: 17.4%\n",
      "Error rate: 17.8%\n",
      "Error rate: 17.0%\n",
      "Error rate: 17.4%\n",
      "Error rate: 17.599999999999998%\n",
      "Error rate: 17.4%\n",
      "Error rate: 17.599999999999998%\n",
      "Error rate: 17.599999999999998%\n",
      "Error rate: 17.4%\n",
      "Error rate: 17.599999999999998%\n",
      "Error rate: 17.599999999999998%\n",
      "Error rate: 17.4%\n",
      "Error rate: 17.8%\n",
      "Error rate: 16.8%\n",
      "Error rate: 17.599999999999998%\n",
      "Error rate: 17.2%\n",
      "Error rate: 17.8%\n",
      "Error rate: 18.0%\n",
      "Error rate: 17.4%\n",
      "Error rate: 17.4%\n",
      "Error rate: 17.8%\n",
      "Error rate: 18.0%\n",
      "Error rate: 17.4%\n",
      "Error rate: 17.2%\n",
      "Error rate: 18.0%\n",
      "Error rate: 17.599999999999998%\n",
      "Error rate: 17.4%\n",
      "Error rate: 17.599999999999998%\n",
      "Error rate: 17.4%\n",
      "Error rate: 17.4%\n",
      "Error rate: 17.0%\n",
      "Error rate: 17.599999999999998%\n",
      "Error rate: 17.0%\n",
      "Error rate: 17.4%\n",
      "Error rate: 17.0%\n",
      "Error rate: 18.0%\n",
      "Error rate: 17.8%\n",
      "Error rate: 17.4%\n",
      "Error rate: 18.0%\n",
      "Error rate: 18.0%\n",
      "Error rate: 18.2%\n",
      "Error rate: 18.0%\n",
      "Error rate: 17.2%\n",
      "Error rate: 17.4%\n",
      "Error rate: 17.8%\n",
      "Error rate: 17.2%\n",
      "Error rate: 17.8%\n",
      "Error rate: 17.599999999999998%\n",
      "Error rate: 17.599999999999998%\n",
      "Error rate: 17.8%\n",
      "Error rate: 17.8%\n",
      "Error rate: 17.599999999999998%\n",
      "Error rate: 17.8%\n",
      "Error rate: 17.8%\n",
      "Error rate: 17.8%\n",
      "Error rate: 17.599999999999998%\n",
      "Error rate: 17.4%\n",
      "Error rate: 18.0%\n",
      "Error rate: 17.599999999999998%\n",
      "Error rate: 18.2%\n",
      "Error rate: 18.0%\n",
      "Error rate: 17.4%\n",
      "Error rate: 17.599999999999998%\n",
      "Error rate: 17.4%\n",
      "Error rate: 17.0%\n",
      "Error rate: 17.8%\n",
      "Error rate: 17.599999999999998%\n",
      "Error rate: 18.0%\n",
      "Error rate: 17.599999999999998%\n",
      "Error rate: 18.0%\n",
      "Error rate: 17.599999999999998%\n",
      "Error rate: 17.599999999999998%\n",
      "Error rate: 18.0%\n",
      "Error rate: 17.8%\n",
      "Error rate: 17.4%\n",
      "Error rate: 17.599999999999998%\n",
      "Error rate: 17.599999999999998%\n",
      "Error rate: 17.2%\n",
      "Error rate: 17.599999999999998%\n",
      "Error rate: 18.0%\n",
      "Error rate: 17.8%\n",
      "Error rate: 17.599999999999998%\n",
      "Error rate: 17.599999999999998%\n",
      "Error rate: 17.599999999999998%\n",
      "Error rate: 17.4%\n",
      "Error rate: 17.599999999999998%\n",
      "---------Estimated value of class labels (using 0.5 as threshold) by majority voting----------\n",
      "Error rate for ensemble classifier: 17.8%\n"
     ]
    }
   ],
   "source": [
    "L=100\n",
    "N=df.shape[0]\n",
    "weights=np.repeat(1/len(df),len(df))\n",
    "Error_rate=[]\n",
    "alpha=[]\n",
    "y_all= np.zeros((N,L))\n",
    "\n",
    "for l in range(L):\n",
    "        # Extract training set by random sampling with replacement from X and y\n",
    "    while True : \n",
    "        # not a thing of beauty, however log.reg. fails if presented with less than two classes. \n",
    "        X_train, y_train = bootstrap_sampling2(df,N,weights)\n",
    "        if not (all(y_train==0) or all(y_train == 1)) : break   \n",
    "    \n",
    "    logit_classifier = LogisticRegression(solver=\"lbfgs\", max_iter=1000)\n",
    "    logit_classifier.fit(X_train, np.array(y_train).flatten())\n",
    "    y_est = logit_classifier.predict(X)\n",
    "    err=(y_est != np.array(y).flatten()).sum(dtype=float)/len(y_est)\n",
    "    alphai = 0.5 * np.log( (1-err)/err)\n",
    "    alpha.append(alphai)\n",
    "    Error_rate.append(err)\n",
    "    ind = np.where(y_est != np.array(y).flatten())[0]\n",
    "    weights[ind] = weights[ind]*np.exp(-alphai) ## Increase weights of misclassified observations\n",
    "    weights=weights / np.sum(weights)           ## Renormalize weights\n",
    "    print('Error rate: {0}%'.format(err*100))   \n",
    "    y_all[:,l]=y_est    \n",
    "\n",
    "print(\"---------Estimated value of class labels (using 0.5 as threshold) by majority voting----------\")\n",
    "##print(y_all.shape)\n",
    "##print(y.shape)\n",
    "Av= np.mean(y_all,axis=1)\n",
    "Av[Av<0.5]=0\n",
    "Av[Av>=0.5]=1\n",
    "ErrorRateEnsemble= (Av!=np.array(y).flatten()).sum(dtype=float)/len(Av)\n",
    "print('Error rate for ensemble classifier: {:.1f}%'.format(ErrorRateEnsemble*100))"
   ]
  },
  {
   "cell_type": "markdown",
   "metadata": {},
   "source": [
    "### Random forest: <font color='red'>Bagging applied to decision trees is often called `random forests`.</font>"
   ]
  },
  {
   "cell_type": "code",
   "execution_count": 73,
   "metadata": {
    "scrolled": true
   },
   "outputs": [
    {
     "data": {
      "text/html": [
       "<div>\n",
       "<style scoped>\n",
       "    .dataframe tbody tr th:only-of-type {\n",
       "        vertical-align: middle;\n",
       "    }\n",
       "\n",
       "    .dataframe tbody tr th {\n",
       "        vertical-align: top;\n",
       "    }\n",
       "\n",
       "    .dataframe thead th {\n",
       "        text-align: right;\n",
       "    }\n",
       "</style>\n",
       "<table border=\"1\" class=\"dataframe\">\n",
       "  <thead>\n",
       "    <tr style=\"text-align: right;\">\n",
       "      <th></th>\n",
       "      <th>x1</th>\n",
       "      <th>x2</th>\n",
       "      <th>y</th>\n",
       "    </tr>\n",
       "  </thead>\n",
       "  <tbody>\n",
       "    <tr>\n",
       "      <td>0</td>\n",
       "      <td>0.923983</td>\n",
       "      <td>0.375663</td>\n",
       "      <td>1</td>\n",
       "    </tr>\n",
       "    <tr>\n",
       "      <td>1</td>\n",
       "      <td>0.286681</td>\n",
       "      <td>0.167146</td>\n",
       "      <td>1</td>\n",
       "    </tr>\n",
       "    <tr>\n",
       "      <td>2</td>\n",
       "      <td>0.575814</td>\n",
       "      <td>0.451366</td>\n",
       "      <td>0</td>\n",
       "    </tr>\n",
       "    <tr>\n",
       "      <td>3</td>\n",
       "      <td>0.660464</td>\n",
       "      <td>0.070620</td>\n",
       "      <td>1</td>\n",
       "    </tr>\n",
       "    <tr>\n",
       "      <td>4</td>\n",
       "      <td>0.150924</td>\n",
       "      <td>0.258054</td>\n",
       "      <td>1</td>\n",
       "    </tr>\n",
       "  </tbody>\n",
       "</table>\n",
       "</div>"
      ],
      "text/plain": [
       "         x1        x2  y\n",
       "0  0.923983  0.375663  1\n",
       "1  0.286681  0.167146  1\n",
       "2  0.575814  0.451366  0\n",
       "3  0.660464  0.070620  1\n",
       "4  0.150924  0.258054  1"
      ]
     },
     "execution_count": 73,
     "metadata": {},
     "output_type": "execute_result"
    }
   ],
   "source": [
    "# Load Matlab data file and extract variables of interest\n",
    "mat_data = loadmat('synth7.mat')\n",
    "X = np.matrix(mat_data['X'])\n",
    "y = np.matrix(mat_data['y'], dtype=int)\n",
    "attributeNames = [name[0] for name in mat_data['attributeNames'].squeeze()]\n",
    "classNames = [name[0][0] for name in mat_data['classNames']]\n",
    "N, M = X.shape\n",
    "C = len(classNames)\n",
    "\n",
    "df=pd.DataFrame(X).set_axis(attributeNames,axis=1,inplace=False)\n",
    "df[\"y\"]=y\n",
    "df.head()"
   ]
  },
  {
   "cell_type": "code",
   "execution_count": 74,
   "metadata": {},
   "outputs": [],
   "source": [
    "from sklearn.ensemble import RandomForestClassifier\n",
    "from toolbox_02450 import dbplot, dbprobplot"
   ]
  },
  {
   "cell_type": "code",
   "execution_count": 75,
   "metadata": {
    "scrolled": false
   },
   "outputs": [
    {
     "name": "stdout",
     "output_type": "stream",
     "text": [
      "Error rate: 0.00%\n"
     ]
    }
   ],
   "source": [
    "# Number of rounds of bagging\n",
    "L = 100\n",
    "\n",
    "# Fit model using random tree classifier:\n",
    "rf_classifier = RandomForestClassifier(L)\n",
    "rf_classifier.fit(X, np.array(y).flatten())\n",
    "y_est = rf_classifier.predict(X)\n",
    "y_est_prob = rf_classifier.predict_proba(X)\n",
    "\n",
    "# Compute classification error\n",
    "ErrorRate = (np.array(y).flatten()!=y_est).sum(dtype=float)/N\n",
    "print('Error rate: {:.2f}%'.format(ErrorRate*100))  \n"
   ]
  },
  {
   "cell_type": "code",
   "execution_count": 15,
   "metadata": {},
   "outputs": [
    {
     "data": {
      "image/png": "[encoded data removed]",
      "text/plain": [
       "<Figure size 432x288 with 2 Axes>"
      ]
     },
     "metadata": {
      "needs_background": "light"
     },
     "output_type": "display_data"
    },
    {
     "data": {
      "image/png": "[encoded data removed]",
      "text/plain": [
       "<Figure size 432x288 with 2 Axes>"
      ]
     },
     "metadata": {
      "needs_background": "light"
     },
     "output_type": "display_data"
    }
   ],
   "source": [
    "# Plot decision boundaries    \n",
    "plt.figure(1); dbprobplot(rf_classifier, X, y, 'auto', resolution=400)\n",
    "plt.figure(2); dbplot(rf_classifier, X, y, 'auto', resolution=400)\n"
   ]
  }
 ],
 "metadata": {
  "kernelspec": {
   "display_name": "Python 3",
   "language": "python",
   "name": "python3"
  },
  "language_info": {
   "codemirror_mode": {
    "name": "ipython",
    "version": 3
   },
   "file_extension": ".py",
   "mimetype": "text/x-python",
   "name": "python",
   "nbconvert_exporter": "python",
   "pygments_lexer": "ipython3",
   "version": "3.7.4"
  }
 },
 "nbformat": 4,
 "nbformat_minor": 2
}
