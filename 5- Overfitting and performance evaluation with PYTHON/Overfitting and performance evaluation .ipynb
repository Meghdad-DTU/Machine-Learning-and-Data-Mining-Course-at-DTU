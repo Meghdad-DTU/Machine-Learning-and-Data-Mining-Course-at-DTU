{
 "cells": [
  {
   "cell_type": "markdown",
   "metadata": {},
   "source": [
    "## Programming exercises"
   ]
  },
  {
   "cell_type": "markdown",
   "metadata": {},
   "source": [
    "### 6.1 Decision tree pruning using cross-validation"
   ]
  },
  {
   "cell_type": "code",
   "execution_count": 49,
   "metadata": {},
   "outputs": [],
   "source": [
    "import numpy as np\n",
    "import pandas as pd\n",
    "import matplotlib.pyplot as plt\n",
    "from scipy.io import loadmat\n",
    "from sklearn.model_selection import train_test_split\n",
    "from sklearn import tree"
   ]
  },
  {
   "cell_type": "code",
   "execution_count": 50,
   "metadata": {},
   "outputs": [],
   "source": [
    "# Load Matlab data file and extract variables of interest\n",
    "mat_data = loadmat('wine2.mat')\n",
    "X = np.matrix(mat_data['X'])\n",
    "y = np.matrix(mat_data['y'], dtype=int)\n",
    "attributeNames = [name[0] for name in mat_data['attributeNames'][0]]\n",
    "classNames = [name[0][0] for name in mat_data['classNames']]\n",
    "N, M = X.shape\n",
    "C = len(classNames)\n"
   ]
  },
  {
   "cell_type": "code",
   "execution_count": 51,
   "metadata": {
    "scrolled": true
   },
   "outputs": [
    {
     "data": {
      "text/html": [
       "<div>\n",
       "<style scoped>\n",
       "    .dataframe tbody tr th:only-of-type {\n",
       "        vertical-align: middle;\n",
       "    }\n",
       "\n",
       "    .dataframe tbody tr th {\n",
       "        vertical-align: top;\n",
       "    }\n",
       "\n",
       "    .dataframe thead th {\n",
       "        text-align: right;\n",
       "    }\n",
       "</style>\n",
       "<table border=\"1\" class=\"dataframe\">\n",
       "  <thead>\n",
       "    <tr style=\"text-align: right;\">\n",
       "      <th></th>\n",
       "      <th>Fixed acidity</th>\n",
       "      <th>Volatile acidity</th>\n",
       "      <th>Citric acid</th>\n",
       "      <th>Residual sugar</th>\n",
       "      <th>Chlorides</th>\n",
       "      <th>Free sulfur dioxide</th>\n",
       "      <th>Total sulfur dioxide</th>\n",
       "      <th>Density</th>\n",
       "      <th>pH</th>\n",
       "      <th>Sulphates</th>\n",
       "      <th>Alcohol</th>\n",
       "      <th>y</th>\n",
       "    </tr>\n",
       "  </thead>\n",
       "  <tbody>\n",
       "    <tr>\n",
       "      <td>0</td>\n",
       "      <td>7.4</td>\n",
       "      <td>0.70</td>\n",
       "      <td>0.00</td>\n",
       "      <td>1.9</td>\n",
       "      <td>0.076</td>\n",
       "      <td>11.0</td>\n",
       "      <td>34.0</td>\n",
       "      <td>0.9978</td>\n",
       "      <td>3.51</td>\n",
       "      <td>0.56</td>\n",
       "      <td>9.4</td>\n",
       "      <td>0</td>\n",
       "    </tr>\n",
       "    <tr>\n",
       "      <td>1</td>\n",
       "      <td>7.8</td>\n",
       "      <td>0.88</td>\n",
       "      <td>0.00</td>\n",
       "      <td>2.6</td>\n",
       "      <td>0.098</td>\n",
       "      <td>25.0</td>\n",
       "      <td>67.0</td>\n",
       "      <td>0.9968</td>\n",
       "      <td>3.20</td>\n",
       "      <td>0.68</td>\n",
       "      <td>9.8</td>\n",
       "      <td>0</td>\n",
       "    </tr>\n",
       "    <tr>\n",
       "      <td>2</td>\n",
       "      <td>7.8</td>\n",
       "      <td>0.76</td>\n",
       "      <td>0.04</td>\n",
       "      <td>2.3</td>\n",
       "      <td>0.092</td>\n",
       "      <td>15.0</td>\n",
       "      <td>54.0</td>\n",
       "      <td>0.9970</td>\n",
       "      <td>3.26</td>\n",
       "      <td>0.65</td>\n",
       "      <td>9.8</td>\n",
       "      <td>0</td>\n",
       "    </tr>\n",
       "    <tr>\n",
       "      <td>3</td>\n",
       "      <td>11.2</td>\n",
       "      <td>0.28</td>\n",
       "      <td>0.56</td>\n",
       "      <td>1.9</td>\n",
       "      <td>0.075</td>\n",
       "      <td>17.0</td>\n",
       "      <td>60.0</td>\n",
       "      <td>0.9980</td>\n",
       "      <td>3.16</td>\n",
       "      <td>0.58</td>\n",
       "      <td>9.8</td>\n",
       "      <td>0</td>\n",
       "    </tr>\n",
       "    <tr>\n",
       "      <td>4</td>\n",
       "      <td>7.4</td>\n",
       "      <td>0.70</td>\n",
       "      <td>0.00</td>\n",
       "      <td>1.9</td>\n",
       "      <td>0.076</td>\n",
       "      <td>11.0</td>\n",
       "      <td>34.0</td>\n",
       "      <td>0.9978</td>\n",
       "      <td>3.51</td>\n",
       "      <td>0.56</td>\n",
       "      <td>9.4</td>\n",
       "      <td>0</td>\n",
       "    </tr>\n",
       "  </tbody>\n",
       "</table>\n",
       "</div>"
      ],
      "text/plain": [
       "   Fixed acidity  Volatile acidity  Citric acid  Residual sugar  Chlorides  \\\n",
       "0            7.4              0.70         0.00             1.9      0.076   \n",
       "1            7.8              0.88         0.00             2.6      0.098   \n",
       "2            7.8              0.76         0.04             2.3      0.092   \n",
       "3           11.2              0.28         0.56             1.9      0.075   \n",
       "4            7.4              0.70         0.00             1.9      0.076   \n",
       "\n",
       "   Free sulfur dioxide  Total sulfur dioxide  Density    pH  Sulphates  \\\n",
       "0                 11.0                  34.0   0.9978  3.51       0.56   \n",
       "1                 25.0                  67.0   0.9968  3.20       0.68   \n",
       "2                 15.0                  54.0   0.9970  3.26       0.65   \n",
       "3                 17.0                  60.0   0.9980  3.16       0.58   \n",
       "4                 11.0                  34.0   0.9978  3.51       0.56   \n",
       "\n",
       "   Alcohol  y  \n",
       "0      9.4  0  \n",
       "1      9.8  0  \n",
       "2      9.8  0  \n",
       "3      9.8  0  \n",
       "4      9.4  0  "
      ]
     },
     "execution_count": 51,
     "metadata": {},
     "output_type": "execute_result"
    }
   ],
   "source": [
    "df=pd.DataFrame(X).set_axis(attributeNames,axis=1,inplace=False)\n",
    "df[\"y\"]=y\n",
    "df.head()"
   ]
  },
  {
   "cell_type": "markdown",
   "metadata": {},
   "source": [
    "`max_depth`:\n",
    "This indicates how deep the tree can be. The deeper the tree, the more splits it has and it captures more information about the data. We fit a decision tree with depths ranging from 2 to 20 and plot the training and test auc scores."
   ]
  },
  {
   "cell_type": "code",
   "execution_count": 52,
   "metadata": {},
   "outputs": [],
   "source": [
    "# exercise 6.1.1\n",
    "# Tree complexity parameter - constraint on maximum depth\n",
    "tc = np.arange(2, 21, 1)\n",
    "\n",
    "# Simple holdout-set crossvalidation\n",
    "test_proportion = 0.5\n",
    "\n",
    "X_train, X_test, y_train, y_test=train_test_split(X, y, test_size=test_proportion,random_state=1)\n",
    "\n",
    "# Initialize variables\n",
    "Error_train = []\n",
    "Error_test = []\n",
    "\n",
    "for t in tc:\n",
    "    # Fit decision tree classifier, Gini split criterion, different pruning levels\n",
    "    dtc = tree.DecisionTreeClassifier(criterion='gini', max_depth=t)\n",
    "    dtc = dtc.fit(X_train,y_train)\n",
    "    pred_train=dtc.predict(X_train)\n",
    "    pred_test= dtc.predict(X_test)\n",
    "    err_train,err_test=0,0    \n",
    "    for a,b in zip(np.array(y_train).flatten(),pred_train):\n",
    "        if a!=b:\n",
    "            err_train+=1\n",
    "    Error_train.append(err_train/len(pred_train))\n",
    "    for a,b in zip(np.array(y_test).flatten(),pred_test):\n",
    "        if a!=b:\n",
    "            err_test+=1\n",
    "    Error_test.append(err_test/len(pred_test))  \n"
   ]
  },
  {
   "cell_type": "code",
   "execution_count": 53,
   "metadata": {},
   "outputs": [
    {
     "data": {
      "image/png": "[encoded data removed]",
      "text/plain": [
       "<Figure size 432x288 with 1 Axes>"
      ]
     },
     "metadata": {
      "needs_background": "light"
     },
     "output_type": "display_data"
    }
   ],
   "source": [
    "plt.plot(tc, Error_train)\n",
    "plt.plot(tc, Error_test)\n",
    "plt.xlabel('Model complexity (max tree depth)')\n",
    "plt.ylabel('Error (misclassification rate)')\n",
    "plt.legend(['Error_train','Error_test']);\n",
    "            "
   ]
  },
  {
   "cell_type": "code",
   "execution_count": 54,
   "metadata": {},
   "outputs": [
    {
     "data": {
      "image/png": "[encoded data removed]",
      "text/plain": [
       "<Figure size 432x288 with 1 Axes>"
      ]
     },
     "metadata": {
      "needs_background": "light"
     },
     "output_type": "display_data"
    }
   ],
   "source": [
    "# Initialize variables\n",
    "Error_train = np.empty((len(tc),1))\n",
    "Error_test = np.empty((len(tc),1))\n",
    "\n",
    "for i, t in enumerate(tc):\n",
    "    # Fit decision tree classifier, Gini split criterion, different pruning levels\n",
    "    dtc = tree.DecisionTreeClassifier(criterion='gini', max_depth=t)\n",
    "    dtc = dtc.fit(X_train,y_train.ravel().T)\n",
    "\n",
    "    # Evaluate classifier's misclassification rate over train/test data\n",
    "    y_est_test = dtc.predict(X_test)\n",
    "    y_est_train = dtc.predict(X_train)\n",
    "    misclass_rate_test = sum(np.abs(np.mat(y_est_test).T - y_test)) / float(len(y_est_test))\n",
    "    misclass_rate_train = sum(np.abs(np.mat(y_est_train).T - y_train)) / float(len(y_est_train))\n",
    "    Error_test[i], Error_train[i] = misclass_rate_test, misclass_rate_train\n",
    "    \n",
    "f = plt.figure();\n",
    "plt.plot(tc, Error_train)\n",
    "plt.plot(tc, Error_test)\n",
    "plt.xlabel('Model complexity (max tree depth)')\n",
    "plt.ylabel('Error (misclassification rate)')\n",
    "plt.legend(['Error_train','Error_test'])\n",
    "    \n",
    "plt.show() "
   ]
  },
  {
   "cell_type": "markdown",
   "metadata": {},
   "source": [
    "### Using 10-fold cross-validation "
   ]
  },
  {
   "cell_type": "code",
   "execution_count": 55,
   "metadata": {},
   "outputs": [],
   "source": [
    "from sklearn.model_selection import KFold, cross_val_score"
   ]
  },
  {
   "cell_type": "code",
   "execution_count": 9,
   "metadata": {},
   "outputs": [],
   "source": [
    "###### Method 1 #######"
   ]
  },
  {
   "cell_type": "code",
   "execution_count": 56,
   "metadata": {},
   "outputs": [],
   "source": [
    "# exercise 6.1.2\n",
    "seed = 7\n",
    "K=10\n",
    "CV = KFold(n_splits=K, random_state=seed)\n",
    "# Tree complexity parameter - constraint on maximum depth\n",
    "tc = np.arange(2, 21, 1)\n",
    "Error_test=[]\n",
    "Error_mean=[]\n",
    "for t in tc:\n",
    "    dtc = tree.DecisionTreeClassifier(criterion='gini', max_depth=t)\n",
    "    accuracy = cross_val_score(dtc, X, y, cv=CV)\n",
    "    Errors=1-accuracy\n",
    "    Error_test.append(Errors)\n",
    "    Error_mean.append(Errors.mean())"
   ]
  },
  {
   "cell_type": "code",
   "execution_count": 57,
   "metadata": {
    "scrolled": true
   },
   "outputs": [
    {
     "data": {
      "image/png": "[encoded data removed]",
      "text/plain": [
       "<Figure size 432x288 with 1 Axes>"
      ]
     },
     "metadata": {
      "needs_background": "light"
     },
     "output_type": "display_data"
    }
   ],
   "source": [
    "plt.boxplot(Error_test)\n",
    "plt.xlabel('Model complexity (max tree depth)')\n",
    "plt.ylabel('Test error across CV folds, K={0})'.format(K));"
   ]
  },
  {
   "cell_type": "code",
   "execution_count": 58,
   "metadata": {
    "scrolled": true
   },
   "outputs": [
    {
     "data": {
      "image/png": "[encoded data removed]",
      "text/plain": [
       "<Figure size 432x288 with 1 Axes>"
      ]
     },
     "metadata": {
      "needs_background": "light"
     },
     "output_type": "display_data"
    }
   ],
   "source": [
    "plt.plot(tc, Error_mean)\n",
    "plt.xlabel('Model complexity (max tree depth)')\n",
    "plt.ylabel('Error (misclassification rate, CV K={0})'.format(K));\n"
   ]
  },
  {
   "cell_type": "code",
   "execution_count": null,
   "metadata": {},
   "outputs": [],
   "source": [
    "###### Method 2 #######"
   ]
  },
  {
   "cell_type": "code",
   "execution_count": 59,
   "metadata": {},
   "outputs": [
    {
     "name": "stdout",
     "output_type": "stream",
     "text": [
      "Computing CV fold: 1/10..\n",
      "Computing CV fold: 2/10..\n",
      "Computing CV fold: 3/10..\n",
      "Computing CV fold: 4/10..\n",
      "Computing CV fold: 5/10..\n",
      "Computing CV fold: 6/10..\n",
      "Computing CV fold: 7/10..\n",
      "Computing CV fold: 8/10..\n",
      "Computing CV fold: 9/10..\n",
      "Computing CV fold: 10/10..\n"
     ]
    }
   ],
   "source": [
    "# Tree complexity parameter - constraint on maximum depth\n",
    "tc = np.arange(2, 21, 1)\n",
    "\n",
    "# K-fold crossvalidation\n",
    "K = 10\n",
    "CV = KFold(n_splits=K,random_state=seed)\n",
    "\n",
    "# Initialize variable\n",
    "Error_train = np.empty((len(tc),K))\n",
    "Error_test = np.empty((len(tc),K))\n",
    "\n",
    "k=0\n",
    "for train_index, test_index in CV.split(X):\n",
    "    print('Computing CV fold: {0}/{1}..'.format(k+1,K))\n",
    "\n",
    "    # extract training and test set for current CV fold\n",
    "    X_train, y_train = X[train_index,:].A, y[train_index,:].A\n",
    "    X_test, y_test = X[test_index,:].A, y[test_index,:].A\n",
    "\n",
    "    for i, t in enumerate(tc):\n",
    "        # Fit decision tree classifier, Gini split criterion, different pruning levels\n",
    "        dtc = tree.DecisionTreeClassifier(criterion='gini', max_depth=t)\n",
    "        dtc = dtc.fit(X_train,y_train.ravel())\n",
    "        y_est_test = dtc.predict(X_test)\n",
    "        y_est_train = dtc.predict(X_train)\n",
    "        # Evaluate misclassification rate over train/test data (in this CV fold)\n",
    "        misclass_rate_test = sum(np.abs(np.mat(y_est_test).T - y_test)) / float(len(y_est_test))\n",
    "        misclass_rate_train = sum(np.abs(np.mat(y_est_train).T - y_train)) / float(len(y_est_train))\n",
    "        Error_test[i,k], Error_train[i,k] = misclass_rate_test, misclass_rate_train\n",
    "    k+=1"
   ]
  },
  {
   "cell_type": "code",
   "execution_count": 15,
   "metadata": {},
   "outputs": [
    {
     "data": {
      "image/png": "[encoded data removed]",
      "text/plain": [
       "<Figure size 432x288 with 1 Axes>"
      ]
     },
     "metadata": {
      "needs_background": "light"
     },
     "output_type": "display_data"
    }
   ],
   "source": [
    "plt.boxplot(Error_test.T)\n",
    "plt.xlabel('Model complexity (max tree depth)')\n",
    "plt.ylabel('Test error across CV folds, K={0})'.format(K));"
   ]
  },
  {
   "cell_type": "code",
   "execution_count": 14,
   "metadata": {},
   "outputs": [
    {
     "data": {
      "image/png": "[encoded data removed]",
      "text/plain": [
       "<Figure size 432x288 with 1 Axes>"
      ]
     },
     "metadata": {
      "needs_background": "light"
     },
     "output_type": "display_data"
    }
   ],
   "source": [
    "plt.plot(tc, Error_mean)\n",
    "plt.xlabel('Model complexity (max tree depth)')\n",
    "plt.ylabel('Error (misclassification rate, CV K={0})'.format(K));"
   ]
  },
  {
   "cell_type": "markdown",
   "metadata": {},
   "source": [
    "### 6.2 Variable selection in linear regression"
   ]
  },
  {
   "cell_type": "code",
   "execution_count": 60,
   "metadata": {},
   "outputs": [],
   "source": [
    "#Import Linear Regression model from scikit-learn.\n",
    "from sklearn.linear_model import LinearRegression\n",
    "from sklearn.preprocessing import StandardScaler"
   ]
  },
  {
   "cell_type": "code",
   "execution_count": 61,
   "metadata": {
    "scrolled": true
   },
   "outputs": [
    {
     "data": {
      "text/html": [
       "<div>\n",
       "<style scoped>\n",
       "    .dataframe tbody tr th:only-of-type {\n",
       "        vertical-align: middle;\n",
       "    }\n",
       "\n",
       "    .dataframe tbody tr th {\n",
       "        vertical-align: top;\n",
       "    }\n",
       "\n",
       "    .dataframe thead th {\n",
       "        text-align: right;\n",
       "    }\n",
       "</style>\n",
       "<table border=\"1\" class=\"dataframe\">\n",
       "  <thead>\n",
       "    <tr style=\"text-align: right;\">\n",
       "      <th></th>\n",
       "      <th>biacromial</th>\n",
       "      <th>pelvic.breadth</th>\n",
       "      <th>bitrochanteric</th>\n",
       "      <th>chest.depth</th>\n",
       "      <th>chest.diam</th>\n",
       "      <th>elbow.diam</th>\n",
       "      <th>wrist.diam</th>\n",
       "      <th>knee.diam</th>\n",
       "      <th>ankle.diam</th>\n",
       "      <th>shoulder.girth</th>\n",
       "      <th>...</th>\n",
       "      <th>hip.girth</th>\n",
       "      <th>thigh.girth</th>\n",
       "      <th>bicep.girth</th>\n",
       "      <th>forearm.girth</th>\n",
       "      <th>knee.girth</th>\n",
       "      <th>calf.girth</th>\n",
       "      <th>ankle.girth</th>\n",
       "      <th>wrist.girth</th>\n",
       "      <th>age</th>\n",
       "      <th>height</th>\n",
       "    </tr>\n",
       "  </thead>\n",
       "  <tbody>\n",
       "    <tr>\n",
       "      <td>0</td>\n",
       "      <td>42.9</td>\n",
       "      <td>26.0</td>\n",
       "      <td>31.5</td>\n",
       "      <td>17.7</td>\n",
       "      <td>28.0</td>\n",
       "      <td>13.1</td>\n",
       "      <td>10.4</td>\n",
       "      <td>18.8</td>\n",
       "      <td>14.1</td>\n",
       "      <td>106.2</td>\n",
       "      <td>...</td>\n",
       "      <td>93.5</td>\n",
       "      <td>51.5</td>\n",
       "      <td>32.5</td>\n",
       "      <td>26.0</td>\n",
       "      <td>34.5</td>\n",
       "      <td>36.5</td>\n",
       "      <td>23.5</td>\n",
       "      <td>16.5</td>\n",
       "      <td>21.0</td>\n",
       "      <td>174.0</td>\n",
       "    </tr>\n",
       "    <tr>\n",
       "      <td>1</td>\n",
       "      <td>43.7</td>\n",
       "      <td>28.5</td>\n",
       "      <td>33.5</td>\n",
       "      <td>16.9</td>\n",
       "      <td>30.8</td>\n",
       "      <td>14.0</td>\n",
       "      <td>11.8</td>\n",
       "      <td>20.6</td>\n",
       "      <td>15.1</td>\n",
       "      <td>110.5</td>\n",
       "      <td>...</td>\n",
       "      <td>94.8</td>\n",
       "      <td>51.5</td>\n",
       "      <td>34.4</td>\n",
       "      <td>28.0</td>\n",
       "      <td>36.5</td>\n",
       "      <td>37.5</td>\n",
       "      <td>24.5</td>\n",
       "      <td>17.0</td>\n",
       "      <td>23.0</td>\n",
       "      <td>175.3</td>\n",
       "    </tr>\n",
       "    <tr>\n",
       "      <td>2</td>\n",
       "      <td>40.1</td>\n",
       "      <td>28.2</td>\n",
       "      <td>33.3</td>\n",
       "      <td>20.9</td>\n",
       "      <td>31.7</td>\n",
       "      <td>13.9</td>\n",
       "      <td>10.9</td>\n",
       "      <td>19.7</td>\n",
       "      <td>14.1</td>\n",
       "      <td>115.1</td>\n",
       "      <td>...</td>\n",
       "      <td>95.0</td>\n",
       "      <td>57.3</td>\n",
       "      <td>33.4</td>\n",
       "      <td>28.8</td>\n",
       "      <td>37.0</td>\n",
       "      <td>37.3</td>\n",
       "      <td>21.9</td>\n",
       "      <td>16.9</td>\n",
       "      <td>28.0</td>\n",
       "      <td>193.5</td>\n",
       "    </tr>\n",
       "    <tr>\n",
       "      <td>3</td>\n",
       "      <td>44.3</td>\n",
       "      <td>29.9</td>\n",
       "      <td>34.0</td>\n",
       "      <td>18.4</td>\n",
       "      <td>28.2</td>\n",
       "      <td>13.9</td>\n",
       "      <td>11.2</td>\n",
       "      <td>20.9</td>\n",
       "      <td>15.0</td>\n",
       "      <td>104.5</td>\n",
       "      <td>...</td>\n",
       "      <td>94.0</td>\n",
       "      <td>53.0</td>\n",
       "      <td>31.0</td>\n",
       "      <td>26.2</td>\n",
       "      <td>37.0</td>\n",
       "      <td>34.8</td>\n",
       "      <td>23.0</td>\n",
       "      <td>16.6</td>\n",
       "      <td>23.0</td>\n",
       "      <td>186.5</td>\n",
       "    </tr>\n",
       "    <tr>\n",
       "      <td>4</td>\n",
       "      <td>42.5</td>\n",
       "      <td>29.9</td>\n",
       "      <td>34.0</td>\n",
       "      <td>21.5</td>\n",
       "      <td>29.4</td>\n",
       "      <td>15.2</td>\n",
       "      <td>11.6</td>\n",
       "      <td>20.7</td>\n",
       "      <td>14.9</td>\n",
       "      <td>107.5</td>\n",
       "      <td>...</td>\n",
       "      <td>98.5</td>\n",
       "      <td>55.4</td>\n",
       "      <td>32.0</td>\n",
       "      <td>28.4</td>\n",
       "      <td>37.7</td>\n",
       "      <td>38.6</td>\n",
       "      <td>24.4</td>\n",
       "      <td>18.0</td>\n",
       "      <td>22.0</td>\n",
       "      <td>187.2</td>\n",
       "    </tr>\n",
       "    <tr>\n",
       "      <td>5</td>\n",
       "      <td>43.3</td>\n",
       "      <td>27.0</td>\n",
       "      <td>31.5</td>\n",
       "      <td>19.6</td>\n",
       "      <td>31.3</td>\n",
       "      <td>14.0</td>\n",
       "      <td>11.5</td>\n",
       "      <td>18.8</td>\n",
       "      <td>13.9</td>\n",
       "      <td>119.8</td>\n",
       "      <td>...</td>\n",
       "      <td>95.3</td>\n",
       "      <td>57.5</td>\n",
       "      <td>33.0</td>\n",
       "      <td>28.0</td>\n",
       "      <td>36.6</td>\n",
       "      <td>36.1</td>\n",
       "      <td>23.5</td>\n",
       "      <td>16.9</td>\n",
       "      <td>20.6</td>\n",
       "      <td>181.5</td>\n",
       "    </tr>\n",
       "    <tr>\n",
       "      <td>6</td>\n",
       "      <td>43.5</td>\n",
       "      <td>30.0</td>\n",
       "      <td>34.0</td>\n",
       "      <td>21.9</td>\n",
       "      <td>31.7</td>\n",
       "      <td>16.1</td>\n",
       "      <td>12.5</td>\n",
       "      <td>20.8</td>\n",
       "      <td>15.6</td>\n",
       "      <td>123.5</td>\n",
       "      <td>...</td>\n",
       "      <td>101.0</td>\n",
       "      <td>60.9</td>\n",
       "      <td>42.4</td>\n",
       "      <td>32.3</td>\n",
       "      <td>40.1</td>\n",
       "      <td>40.3</td>\n",
       "      <td>23.6</td>\n",
       "      <td>18.8</td>\n",
       "      <td>25.5</td>\n",
       "      <td>184.0</td>\n",
       "    </tr>\n",
       "    <tr>\n",
       "      <td>7</td>\n",
       "      <td>44.4</td>\n",
       "      <td>29.8</td>\n",
       "      <td>33.2</td>\n",
       "      <td>21.8</td>\n",
       "      <td>28.8</td>\n",
       "      <td>15.1</td>\n",
       "      <td>11.9</td>\n",
       "      <td>21.0</td>\n",
       "      <td>14.6</td>\n",
       "      <td>120.4</td>\n",
       "      <td>...</td>\n",
       "      <td>98.0</td>\n",
       "      <td>56.0</td>\n",
       "      <td>34.1</td>\n",
       "      <td>28.0</td>\n",
       "      <td>39.2</td>\n",
       "      <td>36.7</td>\n",
       "      <td>22.5</td>\n",
       "      <td>18.0</td>\n",
       "      <td>26.9</td>\n",
       "      <td>184.5</td>\n",
       "    </tr>\n",
       "    <tr>\n",
       "      <td>8</td>\n",
       "      <td>43.5</td>\n",
       "      <td>26.5</td>\n",
       "      <td>32.1</td>\n",
       "      <td>15.5</td>\n",
       "      <td>27.5</td>\n",
       "      <td>14.1</td>\n",
       "      <td>11.2</td>\n",
       "      <td>18.9</td>\n",
       "      <td>13.2</td>\n",
       "      <td>111.0</td>\n",
       "      <td>...</td>\n",
       "      <td>89.5</td>\n",
       "      <td>50.0</td>\n",
       "      <td>33.0</td>\n",
       "      <td>26.0</td>\n",
       "      <td>35.5</td>\n",
       "      <td>35.0</td>\n",
       "      <td>22.0</td>\n",
       "      <td>16.5</td>\n",
       "      <td>22.8</td>\n",
       "      <td>175.0</td>\n",
       "    </tr>\n",
       "  </tbody>\n",
       "</table>\n",
       "<p>9 rows × 23 columns</p>\n",
       "</div>"
      ],
      "text/plain": [
       "   biacromial  pelvic.breadth  bitrochanteric  chest.depth  chest.diam  \\\n",
       "0        42.9            26.0            31.5         17.7        28.0   \n",
       "1        43.7            28.5            33.5         16.9        30.8   \n",
       "2        40.1            28.2            33.3         20.9        31.7   \n",
       "3        44.3            29.9            34.0         18.4        28.2   \n",
       "4        42.5            29.9            34.0         21.5        29.4   \n",
       "5        43.3            27.0            31.5         19.6        31.3   \n",
       "6        43.5            30.0            34.0         21.9        31.7   \n",
       "7        44.4            29.8            33.2         21.8        28.8   \n",
       "8        43.5            26.5            32.1         15.5        27.5   \n",
       "\n",
       "   elbow.diam  wrist.diam  knee.diam  ankle.diam  shoulder.girth  ...  \\\n",
       "0        13.1        10.4       18.8        14.1           106.2  ...   \n",
       "1        14.0        11.8       20.6        15.1           110.5  ...   \n",
       "2        13.9        10.9       19.7        14.1           115.1  ...   \n",
       "3        13.9        11.2       20.9        15.0           104.5  ...   \n",
       "4        15.2        11.6       20.7        14.9           107.5  ...   \n",
       "5        14.0        11.5       18.8        13.9           119.8  ...   \n",
       "6        16.1        12.5       20.8        15.6           123.5  ...   \n",
       "7        15.1        11.9       21.0        14.6           120.4  ...   \n",
       "8        14.1        11.2       18.9        13.2           111.0  ...   \n",
       "\n",
       "   hip.girth  thigh.girth  bicep.girth  forearm.girth  knee.girth  calf.girth  \\\n",
       "0       93.5         51.5         32.5           26.0        34.5        36.5   \n",
       "1       94.8         51.5         34.4           28.0        36.5        37.5   \n",
       "2       95.0         57.3         33.4           28.8        37.0        37.3   \n",
       "3       94.0         53.0         31.0           26.2        37.0        34.8   \n",
       "4       98.5         55.4         32.0           28.4        37.7        38.6   \n",
       "5       95.3         57.5         33.0           28.0        36.6        36.1   \n",
       "6      101.0         60.9         42.4           32.3        40.1        40.3   \n",
       "7       98.0         56.0         34.1           28.0        39.2        36.7   \n",
       "8       89.5         50.0         33.0           26.0        35.5        35.0   \n",
       "\n",
       "   ankle.girth  wrist.girth   age  height  \n",
       "0         23.5         16.5  21.0   174.0  \n",
       "1         24.5         17.0  23.0   175.3  \n",
       "2         21.9         16.9  28.0   193.5  \n",
       "3         23.0         16.6  23.0   186.5  \n",
       "4         24.4         18.0  22.0   187.2  \n",
       "5         23.5         16.9  20.6   181.5  \n",
       "6         23.6         18.8  25.5   184.0  \n",
       "7         22.5         18.0  26.9   184.5  \n",
       "8         22.0         16.5  22.8   175.0  \n",
       "\n",
       "[9 rows x 23 columns]"
      ]
     },
     "execution_count": 61,
     "metadata": {},
     "output_type": "execute_result"
    }
   ],
   "source": [
    "# Load data from matlab file\n",
    "mat_data = loadmat('body.mat')\n",
    "X = np.matrix(mat_data['X'])\n",
    "y = np.matrix(mat_data['y'])\n",
    "attributeNames = [name[0] for name in mat_data['attributeNames'][0]]\n",
    "N, M = X.shape\n",
    "\n",
    "df=pd.DataFrame(X).set_axis(attributeNames ,axis=1,inplace=False)\n",
    "df.head(9)\n"
   ]
  },
  {
   "cell_type": "markdown",
   "metadata": {},
   "source": [
    "**Function 1:** validating linear regression model using 'cvf'-fold cross validation"
   ]
  },
  {
   "cell_type": "code",
   "execution_count": 62,
   "metadata": {},
   "outputs": [],
   "source": [
    "def glm_validate(X,y,cvf=10):\n",
    "    ''' Validate linear regression model using 'cvf'-fold cross validation.\n",
    "        The loss function computed as mean squared error on validation set (MSE).\n",
    "        Function returns MSE averaged over 'cvf' folds.\n",
    "\n",
    "        Parameters:\n",
    "        X       training data set\n",
    "        y       vector of values\n",
    "        cvf     number of crossvalidation folds        \n",
    "    '''\n",
    "    from sklearn import model_selection, linear_model\n",
    "    CV = model_selection.KFold(cvf)\n",
    "    validation_error=np.empty(cvf)\n",
    "    f=0\n",
    "    for train_index, test_index in CV.split(X):\n",
    "        X_train = X[train_index]\n",
    "        y_train = y[train_index]\n",
    "        X_test = X[test_index]\n",
    "        y_test = y[test_index]\n",
    "        m = linear_model.LinearRegression().fit(X_train, y_train)\n",
    "        validation_error[f] = np.square(y_test-m.predict(X_test)).sum()/y_test.shape[0]\n",
    "        f=f+1\n",
    "    return validation_error.mean()"
   ]
  },
  {
   "cell_type": "markdown",
   "metadata": {},
   "source": [
    "**Function 2:** performing feature selection for linear regression model using'cvf'-fold cross validation"
   ]
  },
  {
   "cell_type": "code",
   "execution_count": 63,
   "metadata": {},
   "outputs": [],
   "source": [
    "def feature_selector_lr(X,y,cvf=10,features_record=None,loss_record=None):\n",
    "    ''' Function performs feature selection for linear regression model using\n",
    "        'cvf'-fold cross validation. The process starts with empty set of\n",
    "        features, and in every recurrent step one feature is added to the set\n",
    "        (the feature that minimized loss function in cross-validation.)\n",
    "\n",
    "        Parameters:\n",
    "        X       training data set\n",
    "        y       vector of values\n",
    "        cvf     number of crossvalidation folds\n",
    "\n",
    "        Returns:\n",
    "        selected_features   indices of optimal set of features\n",
    "        features_record     boolean matrix where columns correspond to features\n",
    "                            selected in subsequent steps\n",
    "        loss_record         vector with cv errors in subsequent steps\n",
    "        \n",
    "        Example:\n",
    "        selected_features, features_record, loss_record = ...\n",
    "            feature_selector_lr(X_train, y_train, cvf=10)\n",
    "            \n",
    "    ''' \n",
    "\n",
    "    # first iteration error corresponds to no-feature estimator\n",
    "    if np.all(loss_record==None):\n",
    "        loss_record = np.array([np.square(y-y.mean()).sum()/y.shape[0]])\n",
    "    if np.all(features_record==None):\n",
    "        features_record = np.zeros((X.shape[1],1))\n",
    "\n",
    "    # Add one feature at a time to find the most significant one.\n",
    "    # Include only features not added before.\n",
    "    selected_features = features_record[:,-1].nonzero()[0]\n",
    "    min_loss = loss_record[-1]\n",
    "    #print(min_loss)\n",
    "    best_feature = False\n",
    "    for feature in range(0,X.shape[1]):\n",
    "        if np.where(selected_features==feature)[0].size==0:\n",
    "            trial_selected = np.concatenate((selected_features,np.array([feature])),0).astype(int)\n",
    "            # validate selected features with linear regression and cross-validation:\n",
    "            trial_loss = glm_validate(X[:,trial_selected],y,cvf)\n",
    "            #print(trial_loss)\n",
    "            if trial_loss<min_loss:\n",
    "                min_loss = trial_loss \n",
    "                best_feature = feature\n",
    "\n",
    "    # If adding extra feature decreased the loss function, update records\n",
    "    # and go to the next recursive step\n",
    "    if best_feature!=False:\n",
    "        features_record = np.concatenate((features_record, np.array([features_record[:,-1]]).T), 1)\n",
    "        features_record[best_feature,-1]=1\n",
    "        loss_record = np.concatenate((loss_record,np.array([min_loss])),0)\n",
    "        selected_features, features_record, loss_record = feature_selector_lr(X,y,cvf,features_record,loss_record)\n",
    "        \n",
    "    # Return current records and terminate procedure\n",
    "    return selected_features, features_record, loss_record"
   ]
  },
  {
   "cell_type": "markdown",
   "metadata": {},
   "source": [
    "**Function 3:** ploting matrix X as image with lines separating fields"
   ]
  },
  {
   "cell_type": "code",
   "execution_count": 64,
   "metadata": {},
   "outputs": [],
   "source": [
    "def bmplot(yt, xt, X):\n",
    "    ''' Function plots matrix X as image with lines separating fields. '''\n",
    "    plt.imshow(X,interpolation='none',cmap='bone')\n",
    "    plt.xticks(range(0,len(xt)), xt)\n",
    "    plt.yticks(range(0,len(yt)), yt)\n",
    "    for i in range(0,len(yt)):\n",
    "        plt.axhline(i-0.5, color='black')\n",
    "    for i in range(0,len(xt)):\n",
    "        plt.axvline(i-0.5, color='black')"
   ]
  },
  {
   "cell_type": "code",
   "execution_count": 65,
   "metadata": {
    "scrolled": false
   },
   "outputs": [
    {
     "name": "stdout",
     "output_type": "stream",
     "text": [
      "Cross validation fold 1/5\n",
      "Train indices: [ 6  7  8  9 10 11 12 13 14 15 16 17 18 19 20 21 22 23 24 25 26 27 28 29]\n",
      "Test indices: [0 1 2 3 4 5]\n",
      "Features no: 10\n",
      "\n"
     ]
    },
    {
     "name": "stderr",
     "output_type": "stream",
     "text": [
      "C:\\Users\\Meghdad\\Anaconda3\\lib\\site-packages\\ipykernel_launcher.py:51: MatplotlibDeprecationWarning: Adding an axes using the same arguments as a previous axes currently reuses the earlier instance.  In a future version, a new instance will always be created and returned.  Meanwhile, this warning can be suppressed, and the future behavior ensured, by passing a unique label to each axes instance.\n",
      "C:\\Users\\Meghdad\\Anaconda3\\lib\\site-packages\\ipykernel_launcher.py:56: MatplotlibDeprecationWarning: Adding an axes using the same arguments as a previous axes currently reuses the earlier instance.  In a future version, a new instance will always be created and returned.  Meanwhile, this warning can be suppressed, and the future behavior ensured, by passing a unique label to each axes instance.\n"
     ]
    },
    {
     "name": "stdout",
     "output_type": "stream",
     "text": [
      "Cross validation fold 2/5\n",
      "Train indices: [ 0  1  2  3  4  5 12 13 14 15 16 17 18 19 20 21 22 23 24 25 26 27 28 29]\n",
      "Test indices: [ 6  7  8  9 10 11]\n",
      "Features no: 9\n",
      "\n"
     ]
    },
    {
     "name": "stderr",
     "output_type": "stream",
     "text": [
      "C:\\Users\\Meghdad\\Anaconda3\\lib\\site-packages\\ipykernel_launcher.py:51: MatplotlibDeprecationWarning: Adding an axes using the same arguments as a previous axes currently reuses the earlier instance.  In a future version, a new instance will always be created and returned.  Meanwhile, this warning can be suppressed, and the future behavior ensured, by passing a unique label to each axes instance.\n",
      "C:\\Users\\Meghdad\\Anaconda3\\lib\\site-packages\\ipykernel_launcher.py:56: MatplotlibDeprecationWarning: Adding an axes using the same arguments as a previous axes currently reuses the earlier instance.  In a future version, a new instance will always be created and returned.  Meanwhile, this warning can be suppressed, and the future behavior ensured, by passing a unique label to each axes instance.\n"
     ]
    },
    {
     "name": "stdout",
     "output_type": "stream",
     "text": [
      "Cross validation fold 3/5\n",
      "Train indices: [ 0  1  2  3  4  5  6  7  8  9 10 11 18 19 20 21 22 23 24 25 26 27 28 29]\n",
      "Test indices: [12 13 14 15 16 17]\n",
      "Features no: 7\n",
      "\n"
     ]
    },
    {
     "name": "stderr",
     "output_type": "stream",
     "text": [
      "C:\\Users\\Meghdad\\Anaconda3\\lib\\site-packages\\ipykernel_launcher.py:51: MatplotlibDeprecationWarning: Adding an axes using the same arguments as a previous axes currently reuses the earlier instance.  In a future version, a new instance will always be created and returned.  Meanwhile, this warning can be suppressed, and the future behavior ensured, by passing a unique label to each axes instance.\n",
      "C:\\Users\\Meghdad\\Anaconda3\\lib\\site-packages\\ipykernel_launcher.py:56: MatplotlibDeprecationWarning: Adding an axes using the same arguments as a previous axes currently reuses the earlier instance.  In a future version, a new instance will always be created and returned.  Meanwhile, this warning can be suppressed, and the future behavior ensured, by passing a unique label to each axes instance.\n"
     ]
    },
    {
     "name": "stdout",
     "output_type": "stream",
     "text": [
      "Cross validation fold 4/5\n",
      "Train indices: [ 0  1  2  3  4  5  6  7  8  9 10 11 12 13 14 15 16 17 24 25 26 27 28 29]\n",
      "Test indices: [18 19 20 21 22 23]\n",
      "Features no: 8\n",
      "\n"
     ]
    },
    {
     "name": "stderr",
     "output_type": "stream",
     "text": [
      "C:\\Users\\Meghdad\\Anaconda3\\lib\\site-packages\\ipykernel_launcher.py:51: MatplotlibDeprecationWarning: Adding an axes using the same arguments as a previous axes currently reuses the earlier instance.  In a future version, a new instance will always be created and returned.  Meanwhile, this warning can be suppressed, and the future behavior ensured, by passing a unique label to each axes instance.\n",
      "C:\\Users\\Meghdad\\Anaconda3\\lib\\site-packages\\ipykernel_launcher.py:56: MatplotlibDeprecationWarning: Adding an axes using the same arguments as a previous axes currently reuses the earlier instance.  In a future version, a new instance will always be created and returned.  Meanwhile, this warning can be suppressed, and the future behavior ensured, by passing a unique label to each axes instance.\n"
     ]
    },
    {
     "name": "stdout",
     "output_type": "stream",
     "text": [
      "Cross validation fold 5/5\n",
      "Train indices: [ 0  1  2  3  4  5  6  7  8  9 10 11 12 13 14 15 16 17 18 19 20 21 22 23]\n",
      "Test indices: [24 25 26 27 28 29]\n",
      "Features no: 6\n",
      "\n"
     ]
    },
    {
     "data": {
      "image/png": "[encoded data removed]",
      "text/plain": [
       "<Figure size 720x360 with 2 Axes>"
      ]
     },
     "metadata": {
      "needs_background": "light"
     },
     "output_type": "display_data"
    }
   ],
   "source": [
    "# exercise 6.2.1\n",
    "\n",
    "# Add offset attribute\n",
    "X = np.concatenate((np.ones((X.shape[0],1)),X),1)\n",
    "attributeNames = [u'Offset']+attributeNames\n",
    "M = M+1\n",
    "\n",
    "## Crossvalidation\n",
    "# Create crossvalidation partition for evaluation\n",
    "K = 5\n",
    "CV = KFold(n_splits=K,random_state=seed)\n",
    "\n",
    "# Initialize variables\n",
    "Features = np.zeros((M,K))\n",
    "Error_train = np.empty((K,1))\n",
    "Error_test = np.empty((K,1))\n",
    "Error_train_fs = np.empty((K,1))\n",
    "Error_test_fs = np.empty((K,1))\n",
    "Error_train_nofeatures = np.empty((K,1))\n",
    "Error_test_nofeatures = np.empty((K,1))\n",
    "\n",
    "plt.figure(figsize=(10,5))\n",
    "k=0\n",
    "for train_index, test_index in CV.split(X):    \n",
    "    # extract training and test set for current CV fold\n",
    "    X_train = X[train_index]\n",
    "    y_train = y[train_index]\n",
    "    X_test = X[test_index]\n",
    "    y_test = y[test_index]  \n",
    "    \n",
    "    internal_cross_validation = 10\n",
    "    \n",
    "    # Compute squared error without using the input data at all\n",
    "    Error_train_nofeatures[k] = np.square(y_train-y_train.mean()).sum()/y_train.shape[0]\n",
    "    Error_test_nofeatures[k] = np.square(y_test-y_test.mean()).sum()/y_test.shape[0]\n",
    "\n",
    "    # Compute squared error with all features selected (no feature selection)\n",
    "    m = LinearRegression().fit(X_train, y_train)\n",
    "    Error_train[k] = np.square(y_train-m.predict(X_train)).sum()/y_train.shape[0]\n",
    "    Error_test[k] = np.square(y_test-m.predict(X_test)).sum()/y_test.shape[0]\n",
    "\n",
    "    # Compute squared error with feature subset selection\n",
    "    selected_features, features_record, loss_record = feature_selector_lr(X_train, y_train, internal_cross_validation)\n",
    "    Features[selected_features,k]=1\n",
    "    # .. alternatively you could use module sklearn.feature_selection\n",
    "    m = LinearRegression().fit(X_train[:,selected_features], y_train)\n",
    "    Error_train_fs[k] = np.square(y_train-m.predict(X_train[:,selected_features])).sum()/y_train.shape[0]\n",
    "    Error_test_fs[k] = np.square(y_test-m.predict(X_test[:,selected_features])).sum()/y_test.shape[0]\n",
    "\n",
    "    #    \n",
    "    plt.subplot(1,2,1)\n",
    "    plt.plot(range(1,len(loss_record)), loss_record[1:])\n",
    "    plt.xlabel('Iteration')\n",
    "    plt.ylabel('Squared error (crossvalidation)')    \n",
    "    \n",
    "    plt.subplot(1,2,2)\n",
    "    bmplot(attributeNames, range(1,features_record.shape[1]), -features_record[:,1:])\n",
    "    plt.clim(-1.5,0)\n",
    "    #plt.xlabel('Iteration')\n",
    "\n",
    "    print('Cross validation fold {0}/{1}'.format(k+1,K))\n",
    "    print('Train indices: {0}'.format(train_index))\n",
    "    print('Test indices: {0}'.format(test_index))\n",
    "    print('Features no: {0}\\n'.format(selected_features.size))\n",
    "\n",
    "    k+=1"
   ]
  },
  {
   "cell_type": "code",
   "execution_count": 70,
   "metadata": {},
   "outputs": [
    {
     "name": "stdout",
     "output_type": "stream",
     "text": [
      "\n",
      "\n",
      "Linear regression without feature selection:\n",
      "\n",
      "- Training error: 2.554478865141277e-26\n",
      "- Test error:     1079.9022820163284\n",
      "- R^2 train:     1.0\n",
      "- R^2 test:     -15.360296663505334\n",
      "Linear regression with feature selection:\n",
      "\n",
      "- Training error: 1.4367971286615195\n",
      "- Test error:     11.186348579812872\n",
      "- R^2 train:     0.9794122387020878\n",
      "- R^2 test:     0.8305291280564652\n"
     ]
    },
    {
     "data": {
      "image/png": "[encoded data removed]",
      "text/plain": [
       "<Figure size 432x288 with 1 Axes>"
      ]
     },
     "metadata": {
      "needs_background": "light"
     },
     "output_type": "display_data"
    },
    {
     "data": {
      "image/png": "[encoded data removed]",
      "text/plain": [
       "<Figure size 720x360 with 9 Axes>"
      ]
     },
     "metadata": {
      "needs_background": "light"
     },
     "output_type": "display_data"
    }
   ],
   "source": [
    "# Display results\n",
    "print('\\n')\n",
    "print('Linear regression without feature selection:\\n')\n",
    "print('- Training error: {0}'.format(Error_train.mean()))\n",
    "print('- Test error:     {0}'.format(Error_test.mean()))\n",
    "print('- R^2 train:     {0}'.format((Error_train_nofeatures.sum()-Error_train.sum())/Error_train_nofeatures.sum()))\n",
    "print('- R^2 test:     {0}'.format((Error_test_nofeatures.sum()-Error_test.sum())/Error_test_nofeatures.sum()))\n",
    "print('Linear regression with feature selection:\\n')\n",
    "print('- Training error: {0}'.format(Error_train_fs.mean()))\n",
    "print('- Test error:     {0}'.format(Error_test_fs.mean()))\n",
    "print('- R^2 train:     {0}'.format((Error_train_nofeatures.sum()-Error_train_fs.sum())/Error_train_nofeatures.sum()))\n",
    "print('- R^2 test:     {0}'.format((Error_test_nofeatures.sum()-Error_test_fs.sum())/Error_test_nofeatures.sum()))\n",
    "\n",
    "\n",
    "plt.figure(k)\n",
    "plt.subplot(1,3,2)\n",
    "bmplot(attributeNames, range(1,Features.shape[1]+1), -Features)\n",
    "plt.clim(-1.5,0)\n",
    "plt.xlabel('Crossvalidation fold')\n",
    "plt.ylabel('Attribute')\n",
    "\n",
    "\n",
    "# Inspect selected feature coefficients effect on the entire dataset and\n",
    "# plot the fitted model residual error as function of each attribute to\n",
    "# inspect for systematic structure in the residual\n",
    "f=2 # cross-validation fold to inspect\n",
    "ff=Features[:,f-1].nonzero()[0]\n",
    "m = LinearRegression().fit(X[:,ff], y)\n",
    "\n",
    "y_est= m.predict(X[:,ff])\n",
    "residual=y-y_est\n",
    "plt.figure(figsize=(10,5))\n",
    "plt.figure(k+1)\n",
    "plt.title('Residual error vs. Attributes for features selected in cross-validation fold {0}'.format(f))\n",
    "for i in range(0,len(ff)):\n",
    "    plt.subplot(2,np.ceil(len(ff)/2.0),i+1)\n",
    "    plt.plot(X[:,ff[i]].A,residual.A,'.')\n",
    "    plt.xlabel(attributeNames[ff[i]])\n",
    "    plt.ylabel('residual error')\n",
    "plt.tight_layout()\n",
    "plt.show()"
   ]
  },
  {
   "cell_type": "markdown",
   "metadata": {},
   "source": [
    "### 6.3 Comparing classifiers"
   ]
  },
  {
   "cell_type": "code",
   "execution_count": 72,
   "metadata": {},
   "outputs": [],
   "source": [
    "# Load Matlab data file and extract variables of interest\n",
    "mat_data = loadmat('wine2.mat')\n",
    "X = np.matrix(mat_data['X'])\n",
    "y = np.matrix(mat_data['y'], dtype=int)\n",
    "attributeNames = [name[0] for name in mat_data['attributeNames'][0]]\n",
    "classNames = [name[0][0] for name in mat_data['classNames']]\n",
    "N, M = X.shape\n",
    "C = len(classNames)"
   ]
  },
  {
   "cell_type": "code",
   "execution_count": 73,
   "metadata": {
    "scrolled": true
   },
   "outputs": [
    {
     "data": {
      "text/html": [
       "<div>\n",
       "<style scoped>\n",
       "    .dataframe tbody tr th:only-of-type {\n",
       "        vertical-align: middle;\n",
       "    }\n",
       "\n",
       "    .dataframe tbody tr th {\n",
       "        vertical-align: top;\n",
       "    }\n",
       "\n",
       "    .dataframe thead th {\n",
       "        text-align: right;\n",
       "    }\n",
       "</style>\n",
       "<table border=\"1\" class=\"dataframe\">\n",
       "  <thead>\n",
       "    <tr style=\"text-align: right;\">\n",
       "      <th></th>\n",
       "      <th>Fixed acidity</th>\n",
       "      <th>Volatile acidity</th>\n",
       "      <th>Citric acid</th>\n",
       "      <th>Residual sugar</th>\n",
       "      <th>Chlorides</th>\n",
       "      <th>Free sulfur dioxide</th>\n",
       "      <th>Total sulfur dioxide</th>\n",
       "      <th>Density</th>\n",
       "      <th>pH</th>\n",
       "      <th>Sulphates</th>\n",
       "      <th>Alcohol</th>\n",
       "      <th>y</th>\n",
       "    </tr>\n",
       "  </thead>\n",
       "  <tbody>\n",
       "    <tr>\n",
       "      <td>0</td>\n",
       "      <td>7.4</td>\n",
       "      <td>0.70</td>\n",
       "      <td>0.00</td>\n",
       "      <td>1.9</td>\n",
       "      <td>0.076</td>\n",
       "      <td>11.0</td>\n",
       "      <td>34.0</td>\n",
       "      <td>0.9978</td>\n",
       "      <td>3.51</td>\n",
       "      <td>0.56</td>\n",
       "      <td>9.4</td>\n",
       "      <td>0</td>\n",
       "    </tr>\n",
       "    <tr>\n",
       "      <td>1</td>\n",
       "      <td>7.8</td>\n",
       "      <td>0.88</td>\n",
       "      <td>0.00</td>\n",
       "      <td>2.6</td>\n",
       "      <td>0.098</td>\n",
       "      <td>25.0</td>\n",
       "      <td>67.0</td>\n",
       "      <td>0.9968</td>\n",
       "      <td>3.20</td>\n",
       "      <td>0.68</td>\n",
       "      <td>9.8</td>\n",
       "      <td>0</td>\n",
       "    </tr>\n",
       "    <tr>\n",
       "      <td>2</td>\n",
       "      <td>7.8</td>\n",
       "      <td>0.76</td>\n",
       "      <td>0.04</td>\n",
       "      <td>2.3</td>\n",
       "      <td>0.092</td>\n",
       "      <td>15.0</td>\n",
       "      <td>54.0</td>\n",
       "      <td>0.9970</td>\n",
       "      <td>3.26</td>\n",
       "      <td>0.65</td>\n",
       "      <td>9.8</td>\n",
       "      <td>0</td>\n",
       "    </tr>\n",
       "    <tr>\n",
       "      <td>3</td>\n",
       "      <td>11.2</td>\n",
       "      <td>0.28</td>\n",
       "      <td>0.56</td>\n",
       "      <td>1.9</td>\n",
       "      <td>0.075</td>\n",
       "      <td>17.0</td>\n",
       "      <td>60.0</td>\n",
       "      <td>0.9980</td>\n",
       "      <td>3.16</td>\n",
       "      <td>0.58</td>\n",
       "      <td>9.8</td>\n",
       "      <td>0</td>\n",
       "    </tr>\n",
       "    <tr>\n",
       "      <td>4</td>\n",
       "      <td>7.4</td>\n",
       "      <td>0.70</td>\n",
       "      <td>0.00</td>\n",
       "      <td>1.9</td>\n",
       "      <td>0.076</td>\n",
       "      <td>11.0</td>\n",
       "      <td>34.0</td>\n",
       "      <td>0.9978</td>\n",
       "      <td>3.51</td>\n",
       "      <td>0.56</td>\n",
       "      <td>9.4</td>\n",
       "      <td>0</td>\n",
       "    </tr>\n",
       "  </tbody>\n",
       "</table>\n",
       "</div>"
      ],
      "text/plain": [
       "   Fixed acidity  Volatile acidity  Citric acid  Residual sugar  Chlorides  \\\n",
       "0            7.4              0.70         0.00             1.9      0.076   \n",
       "1            7.8              0.88         0.00             2.6      0.098   \n",
       "2            7.8              0.76         0.04             2.3      0.092   \n",
       "3           11.2              0.28         0.56             1.9      0.075   \n",
       "4            7.4              0.70         0.00             1.9      0.076   \n",
       "\n",
       "   Free sulfur dioxide  Total sulfur dioxide  Density    pH  Sulphates  \\\n",
       "0                 11.0                  34.0   0.9978  3.51       0.56   \n",
       "1                 25.0                  67.0   0.9968  3.20       0.68   \n",
       "2                 15.0                  54.0   0.9970  3.26       0.65   \n",
       "3                 17.0                  60.0   0.9980  3.16       0.58   \n",
       "4                 11.0                  34.0   0.9978  3.51       0.56   \n",
       "\n",
       "   Alcohol  y  \n",
       "0      9.4  0  \n",
       "1      9.8  0  \n",
       "2      9.8  0  \n",
       "3      9.8  0  \n",
       "4      9.4  0  "
      ]
     },
     "execution_count": 73,
     "metadata": {},
     "output_type": "execute_result"
    }
   ],
   "source": [
    "df=pd.DataFrame(X).set_axis(attributeNames,axis=1,inplace=False)\n",
    "df[\"y\"]=y\n",
    "df.head()"
   ]
  },
  {
   "cell_type": "code",
   "execution_count": 74,
   "metadata": {},
   "outputs": [],
   "source": [
    "# exercise 6.3.1\n",
    "from sklearn import tree\n",
    "from sklearn.linear_model import LogisticRegression\n",
    "\n",
    "K= 10\n",
    "CV= KFold(n_splits=K, random_state=seed,shuffle=True)\n",
    "## ACU_reg=np.empty((K,1))\n",
    "## k=0\n",
    "\n",
    "ACU_reg=[]\n",
    "ACU_tree=[]\n",
    "for train_index, test_index in CV.split(X):\n",
    "    X_train=X[train_index]\n",
    "    y_train=y[train_index]\n",
    "    X_test=X[test_index]\n",
    "    y_test=y[test_index]\n",
    "    \n",
    "    Ml_reg=LogisticRegression(solver='lbfgs',max_iter=1000)\n",
    "    Ml_reg=Ml_reg.fit(X_train,np.array(y_train).flatten())\n",
    "    pred_reg= Ml_reg.predict(X_test)\n",
    "    acc=0\n",
    "    for yt, yp in zip(y_test,pred_reg):\n",
    "        if yt==yp:\n",
    "            acc+=1\n",
    "        ACU=acc/len(y_test)\n",
    "    ##ACU_reg[k]=ACU\n",
    "    ACU_reg.append(ACU)\n",
    "    ##k+=1\n",
    "    \n",
    "    Ml_tree=tree.DecisionTreeClassifier(criterion='gini')\n",
    "    Ml_tree=Ml_tree.fit(X_train,np.array(y_train).flatten())\n",
    "    pred_tree= Ml_tree.predict(X_test)\n",
    "    acc=0\n",
    "    for yt, yp in zip(y_test,pred_tree):\n",
    "        if yt==yp:\n",
    "            acc+=1\n",
    "        ACU=acc/len(y_test)\n",
    "    ##ACU_reg[k]=ACU\n",
    "    ACU_tree.append(ACU)   "
   ]
  },
  {
   "cell_type": "code",
   "execution_count": 75,
   "metadata": {},
   "outputs": [
    {
     "data": {
      "image/png": "[encoded data removed]",
      "text/plain": [
       "<Figure size 432x288 with 1 Axes>"
      ]
     },
     "metadata": {
      "needs_background": "light"
     },
     "output_type": "display_data"
    }
   ],
   "source": [
    "dat=[ACU_tree,ACU_reg]\n",
    "plt.boxplot(dat,labels=[\"Decision Tree\",\"Logistic Regression\"])\n",
    "plt.ylabel('Cross-validation accuracy [%]');\n"
   ]
  },
  {
   "cell_type": "code",
   "execution_count": 76,
   "metadata": {},
   "outputs": [
    {
     "name": "stdout",
     "output_type": "stream",
     "text": [
      "Classifiers are not significantly different (p=0.6779658941065945)\n"
     ]
    }
   ],
   "source": [
    "from scipy import stats\n",
    "# Use T-test to check if classifiers are significantly different\n",
    "[tstatistic, pvalue] = stats.ttest_ind(ACU_reg,ACU_tree)\n",
    "if pvalue<=0.05:\n",
    "    print('Classifiers are significantly different. (p={0})'.format(pvalue))\n",
    "else:\n",
    "    print('Classifiers are not significantly different (p={0})'.format(pvalue))        "
   ]
  }
 ],
 "metadata": {
  "kernelspec": {
   "display_name": "Python 3",
   "language": "python",
   "name": "python3"
  },
  "language_info": {
   "codemirror_mode": {
    "name": "ipython",
    "version": 3
   },
   "file_extension": ".py",
   "mimetype": "text/x-python",
   "name": "python",
   "nbconvert_exporter": "python",
   "pygments_lexer": "ipython3",
   "version": "3.7.4"
  }
 },
 "nbformat": 4,
 "nbformat_minor": 2
}
