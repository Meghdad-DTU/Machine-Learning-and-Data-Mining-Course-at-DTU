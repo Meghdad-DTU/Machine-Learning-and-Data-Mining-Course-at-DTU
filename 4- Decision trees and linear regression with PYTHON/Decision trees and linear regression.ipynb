{
 "cells": [
  {
   "cell_type": "markdown",
   "metadata": {},
   "source": [
    "## Programming exercises"
   ]
  },
  {
   "cell_type": "markdown",
   "metadata": {},
   "source": [
    "### 1. Decision trees"
   ]
  },
  {
   "cell_type": "markdown",
   "metadata": {
    "scrolled": true
   },
   "source": [
    "#### Vertebrate data"
   ]
  },
  {
   "cell_type": "code",
   "execution_count": 2,
   "metadata": {},
   "outputs": [],
   "source": [
    "# exercise 5.1.1\n",
    "\n",
    "import numpy as np\n",
    "\n",
    "# Names of data objects\n",
    "dataobjectNames = [\n",
    "    'Human',\n",
    "    'Python',\n",
    "    'Salmon',\n",
    "    'Whale',\n",
    "    'Frog',\n",
    "    'Komodo dragon',\n",
    "    'Bat',\n",
    "    'Pigeon',\n",
    "    'Cat',\n",
    "    'Leopard shark',\n",
    "    'Turtle',\n",
    "    'Penguin',\n",
    "    'Porcupine',\n",
    "    'Eel',\n",
    "    'Salamander',\n",
    "    ]\n",
    "\n",
    "# Attribute names\n",
    "attributeNames = [\n",
    "    'Body temperature',\n",
    "    'Skin cover',\n",
    "    'Gives birth',\n",
    "    'Aquatic creature',\n",
    "    'Aerial creature',\n",
    "    'Has legs',\n",
    "    'Hibernates'\n",
    "    ]\n",
    "\n",
    "# Attribute values\n",
    "X = np.mat('''\n",
    "    1 1 1 0 0 1 0;\n",
    "    0 2 0 0 0 0 1;\n",
    "    0 2 0 1 0 0 0;\n",
    "    1 1 1 1 0 0 0;\n",
    "    0 0 0 2 0 1 1;\n",
    "    0 2 0 0 0 1 0;\n",
    "    1 1 1 0 1 1 1;\n",
    "    1 3 0 0 1 1 0;\n",
    "    1 4 1 0 0 1 0;\n",
    "    0 2 1 1 0 0 0;\n",
    "    0 2 0 2 0 1 0;\n",
    "    1 3 0 2 0 1 0;\n",
    "    1 5 1 0 0 1 1;\n",
    "    0 2 0 1 0 0 0;\n",
    "    0 0 0 2 0 1 1 ''')\n",
    "\n",
    "# Class indices\n",
    "y = np.mat('3 4 2 3 0 4 3 1 3 2 4 1 3 2 0').T\n",
    "\n",
    "# Class names\n",
    "classNames = ['Amphibian', 'Bird', 'Fish', 'Mammal', 'Reptile']\n",
    "    \n",
    "# Number data objects, attributes, and classes\n",
    "N, M = X.shape\n",
    "C = len(classNames)\n",
    "\n"
   ]
  },
  {
   "cell_type": "markdown",
   "metadata": {},
   "source": [
    "![](Pic.png)"
   ]
  },
  {
   "cell_type": "code",
   "execution_count": 3,
   "metadata": {
    "scrolled": true
   },
   "outputs": [
    {
     "data": {
      "text/html": [
       "<div>\n",
       "<style scoped>\n",
       "    .dataframe tbody tr th:only-of-type {\n",
       "        vertical-align: middle;\n",
       "    }\n",
       "\n",
       "    .dataframe tbody tr th {\n",
       "        vertical-align: top;\n",
       "    }\n",
       "\n",
       "    .dataframe thead th {\n",
       "        text-align: right;\n",
       "    }\n",
       "</style>\n",
       "<table border=\"1\" class=\"dataframe\">\n",
       "  <thead>\n",
       "    <tr style=\"text-align: right;\">\n",
       "      <th></th>\n",
       "      <th>Body temperature</th>\n",
       "      <th>Skin cover</th>\n",
       "      <th>Gives birth</th>\n",
       "      <th>Aquatic creature</th>\n",
       "      <th>Aerial creature</th>\n",
       "      <th>Has legs</th>\n",
       "      <th>Hibernates</th>\n",
       "      <th>y</th>\n",
       "    </tr>\n",
       "    <tr>\n",
       "      <th>Names</th>\n",
       "      <th></th>\n",
       "      <th></th>\n",
       "      <th></th>\n",
       "      <th></th>\n",
       "      <th></th>\n",
       "      <th></th>\n",
       "      <th></th>\n",
       "      <th></th>\n",
       "    </tr>\n",
       "  </thead>\n",
       "  <tbody>\n",
       "    <tr>\n",
       "      <td>Human</td>\n",
       "      <td>1</td>\n",
       "      <td>1</td>\n",
       "      <td>1</td>\n",
       "      <td>0</td>\n",
       "      <td>0</td>\n",
       "      <td>1</td>\n",
       "      <td>0</td>\n",
       "      <td>3</td>\n",
       "    </tr>\n",
       "    <tr>\n",
       "      <td>Python</td>\n",
       "      <td>0</td>\n",
       "      <td>2</td>\n",
       "      <td>0</td>\n",
       "      <td>0</td>\n",
       "      <td>0</td>\n",
       "      <td>0</td>\n",
       "      <td>1</td>\n",
       "      <td>4</td>\n",
       "    </tr>\n",
       "    <tr>\n",
       "      <td>Salmon</td>\n",
       "      <td>0</td>\n",
       "      <td>2</td>\n",
       "      <td>0</td>\n",
       "      <td>1</td>\n",
       "      <td>0</td>\n",
       "      <td>0</td>\n",
       "      <td>0</td>\n",
       "      <td>2</td>\n",
       "    </tr>\n",
       "    <tr>\n",
       "      <td>Whale</td>\n",
       "      <td>1</td>\n",
       "      <td>1</td>\n",
       "      <td>1</td>\n",
       "      <td>1</td>\n",
       "      <td>0</td>\n",
       "      <td>0</td>\n",
       "      <td>0</td>\n",
       "      <td>3</td>\n",
       "    </tr>\n",
       "    <tr>\n",
       "      <td>Frog</td>\n",
       "      <td>0</td>\n",
       "      <td>0</td>\n",
       "      <td>0</td>\n",
       "      <td>2</td>\n",
       "      <td>0</td>\n",
       "      <td>1</td>\n",
       "      <td>1</td>\n",
       "      <td>0</td>\n",
       "    </tr>\n",
       "    <tr>\n",
       "      <td>Komodo dragon</td>\n",
       "      <td>0</td>\n",
       "      <td>2</td>\n",
       "      <td>0</td>\n",
       "      <td>0</td>\n",
       "      <td>0</td>\n",
       "      <td>1</td>\n",
       "      <td>0</td>\n",
       "      <td>4</td>\n",
       "    </tr>\n",
       "    <tr>\n",
       "      <td>Bat</td>\n",
       "      <td>1</td>\n",
       "      <td>1</td>\n",
       "      <td>1</td>\n",
       "      <td>0</td>\n",
       "      <td>1</td>\n",
       "      <td>1</td>\n",
       "      <td>1</td>\n",
       "      <td>3</td>\n",
       "    </tr>\n",
       "    <tr>\n",
       "      <td>Pigeon</td>\n",
       "      <td>1</td>\n",
       "      <td>3</td>\n",
       "      <td>0</td>\n",
       "      <td>0</td>\n",
       "      <td>1</td>\n",
       "      <td>1</td>\n",
       "      <td>0</td>\n",
       "      <td>1</td>\n",
       "    </tr>\n",
       "    <tr>\n",
       "      <td>Cat</td>\n",
       "      <td>1</td>\n",
       "      <td>4</td>\n",
       "      <td>1</td>\n",
       "      <td>0</td>\n",
       "      <td>0</td>\n",
       "      <td>1</td>\n",
       "      <td>0</td>\n",
       "      <td>3</td>\n",
       "    </tr>\n",
       "    <tr>\n",
       "      <td>Leopard shark</td>\n",
       "      <td>0</td>\n",
       "      <td>2</td>\n",
       "      <td>1</td>\n",
       "      <td>1</td>\n",
       "      <td>0</td>\n",
       "      <td>0</td>\n",
       "      <td>0</td>\n",
       "      <td>2</td>\n",
       "    </tr>\n",
       "    <tr>\n",
       "      <td>Turtle</td>\n",
       "      <td>0</td>\n",
       "      <td>2</td>\n",
       "      <td>0</td>\n",
       "      <td>2</td>\n",
       "      <td>0</td>\n",
       "      <td>1</td>\n",
       "      <td>0</td>\n",
       "      <td>4</td>\n",
       "    </tr>\n",
       "    <tr>\n",
       "      <td>Penguin</td>\n",
       "      <td>1</td>\n",
       "      <td>3</td>\n",
       "      <td>0</td>\n",
       "      <td>2</td>\n",
       "      <td>0</td>\n",
       "      <td>1</td>\n",
       "      <td>0</td>\n",
       "      <td>1</td>\n",
       "    </tr>\n",
       "    <tr>\n",
       "      <td>Porcupine</td>\n",
       "      <td>1</td>\n",
       "      <td>5</td>\n",
       "      <td>1</td>\n",
       "      <td>0</td>\n",
       "      <td>0</td>\n",
       "      <td>1</td>\n",
       "      <td>1</td>\n",
       "      <td>3</td>\n",
       "    </tr>\n",
       "    <tr>\n",
       "      <td>Eel</td>\n",
       "      <td>0</td>\n",
       "      <td>2</td>\n",
       "      <td>0</td>\n",
       "      <td>1</td>\n",
       "      <td>0</td>\n",
       "      <td>0</td>\n",
       "      <td>0</td>\n",
       "      <td>2</td>\n",
       "    </tr>\n",
       "    <tr>\n",
       "      <td>Salamander</td>\n",
       "      <td>0</td>\n",
       "      <td>0</td>\n",
       "      <td>0</td>\n",
       "      <td>2</td>\n",
       "      <td>0</td>\n",
       "      <td>1</td>\n",
       "      <td>1</td>\n",
       "      <td>0</td>\n",
       "    </tr>\n",
       "  </tbody>\n",
       "</table>\n",
       "</div>"
      ],
      "text/plain": [
       "               Body temperature  Skin cover  Gives birth  Aquatic creature  \\\n",
       "Names                                                                        \n",
       "Human                         1           1            1                 0   \n",
       "Python                        0           2            0                 0   \n",
       "Salmon                        0           2            0                 1   \n",
       "Whale                         1           1            1                 1   \n",
       "Frog                          0           0            0                 2   \n",
       "Komodo dragon                 0           2            0                 0   \n",
       "Bat                           1           1            1                 0   \n",
       "Pigeon                        1           3            0                 0   \n",
       "Cat                           1           4            1                 0   \n",
       "Leopard shark                 0           2            1                 1   \n",
       "Turtle                        0           2            0                 2   \n",
       "Penguin                       1           3            0                 2   \n",
       "Porcupine                     1           5            1                 0   \n",
       "Eel                           0           2            0                 1   \n",
       "Salamander                    0           0            0                 2   \n",
       "\n",
       "               Aerial creature  Has legs  Hibernates  y  \n",
       "Names                                                    \n",
       "Human                        0         1           0  3  \n",
       "Python                       0         0           1  4  \n",
       "Salmon                       0         0           0  2  \n",
       "Whale                        0         0           0  3  \n",
       "Frog                         0         1           1  0  \n",
       "Komodo dragon                0         1           0  4  \n",
       "Bat                          1         1           1  3  \n",
       "Pigeon                       1         1           0  1  \n",
       "Cat                          0         1           0  3  \n",
       "Leopard shark                0         0           0  2  \n",
       "Turtle                       0         1           0  4  \n",
       "Penguin                      0         1           0  1  \n",
       "Porcupine                    0         1           1  3  \n",
       "Eel                          0         0           0  2  \n",
       "Salamander                   0         1           1  0  "
      ]
     },
     "execution_count": 3,
     "metadata": {},
     "output_type": "execute_result"
    }
   ],
   "source": [
    "import pandas as pd\n",
    "df=pd.DataFrame(X).set_axis(attributeNames, axis=1, inplace=False)\n",
    "df[\"y\"]=y\n",
    "df[\"Names\"]=dataobjectNames\n",
    "df=df.set_index(\"Names\")\n",
    "df"
   ]
  },
  {
   "cell_type": "code",
   "execution_count": 8,
   "metadata": {
    "scrolled": true
   },
   "outputs": [],
   "source": [
    "## import dependencies\n",
    "from sklearn import tree #For our Decision Tree\n",
    "# ! pip install pydotplus\n",
    "import pydotplus # To create our Decision Tree Graph\n",
    "from IPython.display import Image  # To Display a image of our graph"
   ]
  },
  {
   "cell_type": "code",
   "execution_count": 9,
   "metadata": {},
   "outputs": [],
   "source": [
    "y=df[\"y\"]\n",
    "X=df.drop(\"y\",axis=1)\n",
    "\n",
    "\n",
    "# Fit regression tree classifier, Gini split criterion, no pruning\n",
    "dtc = tree.DecisionTreeClassifier(criterion='gini')\n",
    "dtc = dtc.fit(X,y)"
   ]
  },
  {
   "cell_type": "code",
   "execution_count": 10,
   "metadata": {
    "scrolled": true
   },
   "outputs": [
    {
     "name": "stdout",
     "output_type": "stream",
     "text": [
      "digraph Tree {\n",
      "node [shape=box] ;\n",
      "0 [label=\"X[0] <= 0.5\\ngini = 0.773\\nsamples = 15\\nvalue = [2, 2, 3, 5, 3]\"] ;\n",
      "1 [label=\"X[1] <= 1.0\\ngini = 0.656\\nsamples = 8\\nvalue = [2, 0, 3, 0, 3]\"] ;\n",
      "0 -> 1 [labeldistance=2.5, labelangle=45, headlabel=\"True\"] ;\n",
      "2 [label=\"gini = 0.0\\nsamples = 2\\nvalue = [2, 0, 0, 0, 0]\"] ;\n",
      "1 -> 2 ;\n",
      "3 [label=\"X[3] <= 0.5\\ngini = 0.5\\nsamples = 6\\nvalue = [0, 0, 3, 0, 3]\"] ;\n",
      "1 -> 3 ;\n",
      "4 [label=\"gini = 0.0\\nsamples = 2\\nvalue = [0, 0, 0, 0, 2]\"] ;\n",
      "3 -> 4 ;\n",
      "5 [label=\"X[3] <= 1.5\\ngini = 0.375\\nsamples = 4\\nvalue = [0, 0, 3, 0, 1]\"] ;\n",
      "3 -> 5 ;\n",
      "6 [label=\"gini = 0.0\\nsamples = 3\\nvalue = [0, 0, 3, 0, 0]\"] ;\n",
      "5 -> 6 ;\n",
      "7 [label=\"gini = 0.0\\nsamples = 1\\nvalue = [0, 0, 0, 0, 1]\"] ;\n",
      "5 -> 7 ;\n",
      "8 [label=\"X[2] <= 0.5\\ngini = 0.408\\nsamples = 7\\nvalue = [0, 2, 0, 5, 0]\"] ;\n",
      "0 -> 8 [labeldistance=2.5, labelangle=-45, headlabel=\"False\"] ;\n",
      "9 [label=\"gini = 0.0\\nsamples = 2\\nvalue = [0, 2, 0, 0, 0]\"] ;\n",
      "8 -> 9 ;\n",
      "10 [label=\"gini = 0.0\\nsamples = 5\\nvalue = [0, 0, 0, 5, 0]\"] ;\n",
      "8 -> 10 ;\n",
      "}\n"
     ]
    }
   ],
   "source": [
    "# Export/Print a decision tree in DOT format.\n",
    "print(tree.export_graphviz(dtc, None))"
   ]
  },
  {
   "cell_type": "code",
   "execution_count": 11,
   "metadata": {},
   "outputs": [],
   "source": [
    "#Create Dot Data\n",
    "out = tree.export_graphviz(dtc, out_file=\"tree_gini.gvz\", feature_names=attributeNames, \n",
    "                                class_names=classNames, rounded=True, filled=True) \n",
    "#Gini decides which attribute/feature should be placed at the root node, which features will act as internal nodes or leaf nodes"
   ]
  },
  {
   "cell_type": "markdown",
   "metadata": {},
   "source": [
    "The generated file (here: `tree_gini.gvz`) can be visualized externally with i.e. Graphviz editor or\n",
    "dot command-line tool. Open gvetit.exe externally ... then open the saved `.gvz` file"
   ]
  },
  {
   "cell_type": "code",
   "execution_count": 12,
   "metadata": {},
   "outputs": [],
   "source": [
    "# Fit regression tree classifier, deviance (entropy) split criterion, no pruning\n",
    "dtc = tree.DecisionTreeClassifier(criterion='entropy')\n",
    "dtc = dtc.fit(X,y)\n",
    "\n",
    "# Export tree graph for visualization purposes:\n",
    "# (note: you can use i.e. Graphviz application to visualize the file)\n",
    "out = tree.export_graphviz(dtc, out_file='tree_deviance.gvz', feature_names=attributeNames,\n",
    "                          class_names=classNames, rounded=True, filled=True)"
   ]
  },
  {
   "cell_type": "markdown",
   "metadata": {},
   "source": [
    "Show that a dragon, which is cold-blooded, has scales, gives birth, is semi aquatic, is an aerial creature, has legs, and hibernates, will be classiffied as a reptile."
   ]
  },
  {
   "cell_type": "code",
   "execution_count": 13,
   "metadata": {},
   "outputs": [],
   "source": [
    "# Define a new data object (a dragon) with the attributes given in the text\n",
    "x = np.array([0, 2, 1, 2, 1, 1, 1])\n",
    "new_x=x.reshape(1,-1)\n"
   ]
  },
  {
   "cell_type": "code",
   "execution_count": 14,
   "metadata": {},
   "outputs": [
    {
     "name": "stdout",
     "output_type": "stream",
     "text": [
      "\n",
      "New object attributes:\n",
      "{'Body temperature': 0, 'Skin cover': 2, 'Gives birth': 1, 'Aquatic creature': 2, 'Aerial creature': 1, 'Has legs': 1, 'Hibernates': 1}\n",
      "\n",
      "Classification result:\n",
      "Reptile\n"
     ]
    }
   ],
   "source": [
    "# Evaluate the classification tree for the new data object\n",
    "x_class = dtc.predict(new_x)[0]\n",
    "\n",
    "# Print results\n",
    "print ('\\nNew object attributes:')\n",
    "print (dict(zip(attributeNames,x)))\n",
    "print ('\\nClassification result:')\n",
    "print (classNames[x_class])"
   ]
  },
  {
   "cell_type": "markdown",
   "metadata": {},
   "source": [
    "#### Wine data"
   ]
  },
  {
   "cell_type": "markdown",
   "metadata": {},
   "source": [
    "The script removes outliers from the data set. Outliers are defined as data objects where Volatile acidity > 20 g/dm3, Density > 10 g/cm3, or Alcohol > 200%.\n",
    "The script also removes attribute 12, Quality score, from the data set, in order to use only the quantitative measurements for the prediction."
   ]
  },
  {
   "cell_type": "code",
   "execution_count": 15,
   "metadata": {},
   "outputs": [],
   "source": [
    "from scipy.io import loadmat\n",
    "\n",
    "# Load Matlab data file and extract variables of interest\n",
    "mat_data = loadmat('wine.mat')\n",
    "X = np.matrix(mat_data['X'])\n",
    "y = np.matrix(mat_data['y'])\n",
    "C = mat_data['C'][0,0]\n",
    "M = mat_data['M'][0,0]\n",
    "N = mat_data['N'][0,0]\n",
    "#attributeNames = [name[0] for name in mat_data['attributeNames'][0]\n",
    "#classNames = [name[0][0] for name in mat_data['classNames'][0]]\n",
    "\n",
    "attributeNames = [i[0][0] for i in mat_data['attributeNames']]\n",
    "classNames = [j[0] for i in mat_data['classNames'] for j in i]\n",
    "\n",
    "\n",
    "# Remove outliers\n",
    "outlier_mask = (X[:,1]>20).A.ravel() | (X[:,7]>10).A.ravel() | (X[:,10]>200).A.ravel()\n",
    "valid_mask = np.logical_not(outlier_mask)\n",
    "X = X[valid_mask,:]\n",
    "y = y[valid_mask,:]\n",
    "# Remove attribute 12 (Quality score)\n",
    "X = X[:,0:11]\n",
    "attributeNames = attributeNames[0:11]\n",
    "# Update N and M\n",
    "N, M = X.shape\n"
   ]
  },
  {
   "cell_type": "code",
   "execution_count": 16,
   "metadata": {},
   "outputs": [
    {
     "data": {
      "text/html": [
       "<div>\n",
       "<style scoped>\n",
       "    .dataframe tbody tr th:only-of-type {\n",
       "        vertical-align: middle;\n",
       "    }\n",
       "\n",
       "    .dataframe tbody tr th {\n",
       "        vertical-align: top;\n",
       "    }\n",
       "\n",
       "    .dataframe thead th {\n",
       "        text-align: right;\n",
       "    }\n",
       "</style>\n",
       "<table border=\"1\" class=\"dataframe\">\n",
       "  <thead>\n",
       "    <tr style=\"text-align: right;\">\n",
       "      <th></th>\n",
       "      <th>Fixed acidity</th>\n",
       "      <th>Volatile acidity</th>\n",
       "      <th>Citric acid</th>\n",
       "      <th>Residual sugar</th>\n",
       "      <th>Chlorides</th>\n",
       "      <th>Free sulfur dioxide</th>\n",
       "      <th>Total sulfur dioxide</th>\n",
       "      <th>Density</th>\n",
       "      <th>pH</th>\n",
       "      <th>Sulphates</th>\n",
       "      <th>Alcohol</th>\n",
       "      <th>y</th>\n",
       "    </tr>\n",
       "  </thead>\n",
       "  <tbody>\n",
       "    <tr>\n",
       "      <td>0</td>\n",
       "      <td>7.4</td>\n",
       "      <td>0.70</td>\n",
       "      <td>0.00</td>\n",
       "      <td>1.9</td>\n",
       "      <td>0.076</td>\n",
       "      <td>11.0</td>\n",
       "      <td>34.0</td>\n",
       "      <td>0.9978</td>\n",
       "      <td>3.51</td>\n",
       "      <td>0.56</td>\n",
       "      <td>9.4</td>\n",
       "      <td>0</td>\n",
       "    </tr>\n",
       "    <tr>\n",
       "      <td>1</td>\n",
       "      <td>7.8</td>\n",
       "      <td>0.88</td>\n",
       "      <td>0.00</td>\n",
       "      <td>2.6</td>\n",
       "      <td>0.098</td>\n",
       "      <td>25.0</td>\n",
       "      <td>67.0</td>\n",
       "      <td>0.9968</td>\n",
       "      <td>3.20</td>\n",
       "      <td>0.68</td>\n",
       "      <td>9.8</td>\n",
       "      <td>0</td>\n",
       "    </tr>\n",
       "    <tr>\n",
       "      <td>2</td>\n",
       "      <td>7.8</td>\n",
       "      <td>0.76</td>\n",
       "      <td>0.04</td>\n",
       "      <td>2.3</td>\n",
       "      <td>0.092</td>\n",
       "      <td>15.0</td>\n",
       "      <td>54.0</td>\n",
       "      <td>0.9970</td>\n",
       "      <td>3.26</td>\n",
       "      <td>0.65</td>\n",
       "      <td>9.8</td>\n",
       "      <td>0</td>\n",
       "    </tr>\n",
       "    <tr>\n",
       "      <td>3</td>\n",
       "      <td>11.2</td>\n",
       "      <td>0.28</td>\n",
       "      <td>0.56</td>\n",
       "      <td>1.9</td>\n",
       "      <td>0.075</td>\n",
       "      <td>17.0</td>\n",
       "      <td>60.0</td>\n",
       "      <td>0.9980</td>\n",
       "      <td>3.16</td>\n",
       "      <td>0.58</td>\n",
       "      <td>9.8</td>\n",
       "      <td>0</td>\n",
       "    </tr>\n",
       "    <tr>\n",
       "      <td>4</td>\n",
       "      <td>7.4</td>\n",
       "      <td>0.70</td>\n",
       "      <td>0.00</td>\n",
       "      <td>1.9</td>\n",
       "      <td>0.076</td>\n",
       "      <td>11.0</td>\n",
       "      <td>34.0</td>\n",
       "      <td>0.9978</td>\n",
       "      <td>3.51</td>\n",
       "      <td>0.56</td>\n",
       "      <td>9.4</td>\n",
       "      <td>0</td>\n",
       "    </tr>\n",
       "  </tbody>\n",
       "</table>\n",
       "</div>"
      ],
      "text/plain": [
       "   Fixed acidity  Volatile acidity  Citric acid  Residual sugar  Chlorides  \\\n",
       "0            7.4              0.70         0.00             1.9      0.076   \n",
       "1            7.8              0.88         0.00             2.6      0.098   \n",
       "2            7.8              0.76         0.04             2.3      0.092   \n",
       "3           11.2              0.28         0.56             1.9      0.075   \n",
       "4            7.4              0.70         0.00             1.9      0.076   \n",
       "\n",
       "   Free sulfur dioxide  Total sulfur dioxide  Density    pH  Sulphates  \\\n",
       "0                 11.0                  34.0   0.9978  3.51       0.56   \n",
       "1                 25.0                  67.0   0.9968  3.20       0.68   \n",
       "2                 15.0                  54.0   0.9970  3.26       0.65   \n",
       "3                 17.0                  60.0   0.9980  3.16       0.58   \n",
       "4                 11.0                  34.0   0.9978  3.51       0.56   \n",
       "\n",
       "   Alcohol  y  \n",
       "0      9.4  0  \n",
       "1      9.8  0  \n",
       "2      9.8  0  \n",
       "3      9.8  0  \n",
       "4      9.4  0  "
      ]
     },
     "execution_count": 16,
     "metadata": {},
     "output_type": "execute_result"
    }
   ],
   "source": [
    "df=pd.DataFrame(X).set_axis(attributeNames,axis=1,inplace=False)\n",
    "df[\"y\"]=y\n",
    "df.head()"
   ]
  },
  {
   "cell_type": "code",
   "execution_count": 17,
   "metadata": {},
   "outputs": [
    {
     "data": {
      "text/plain": [
       "(6304, 11)"
      ]
     },
     "execution_count": 17,
     "metadata": {},
     "output_type": "execute_result"
    }
   ],
   "source": [
    "X=df.drop(\"y\",axis=1)\n",
    "y=df.y\n",
    "X.shape"
   ]
  },
  {
   "cell_type": "code",
   "execution_count": 18,
   "metadata": {},
   "outputs": [],
   "source": [
    "# Fit regression tree classifier, Gini split criterion, pruning enabled\n",
    "dtc_100 = tree.DecisionTreeClassifier(criterion='gini', min_samples_split=100)\n",
    "dtc_100 = dtc.fit(X,y)\n",
    "\n",
    "# Export tree graph for visualization purposes:\n",
    "# (note: you can use i.e. Graphviz application to visualize the file)\n",
    "out_100 = tree.export_graphviz(dtc_100, out_file='tree_gini_Wine_data.png', feature_names=attributeNames)"
   ]
  },
  {
   "cell_type": "code",
   "execution_count": 19,
   "metadata": {},
   "outputs": [
    {
     "name": "stdout",
     "output_type": "stream",
     "text": [
      "\n",
      "New object attributes:\n",
      "{'Fixed acidity': 6.9, 'Volatile acidity': 1.09, 'Citric acid': 0.06, 'Residual sugar': 2.1, 'Chlorides': 0.0061, 'Free sulfur dioxide': 12.0, 'Total sulfur dioxide': 31.0, 'Density': 0.99, 'pH': 3.5, 'Sulphates': 0.44, 'Alcohol': 12.0}\n",
      "\n",
      "Classification result:\n",
      "White\n"
     ]
    }
   ],
   "source": [
    "# Define a new data object (new type of wine) with the attributes given in the text\n",
    "x=np.array([6.9,1.09,0.06,2.1,0.0061,12,31,0.99,3.5,0.44,12])\n",
    "x_new=x.reshape(1,-1)\n",
    "x_class=dtc_100.predict(x_new)[0]\n",
    "\n",
    "# Print results\n",
    "print ('\\nNew object attributes:')\n",
    "print (dict(zip(attributeNames,x)))\n",
    "print ('\\nClassification result:')\n",
    "print (classNames[x_class])\n"
   ]
  },
  {
   "cell_type": "markdown",
   "metadata": {},
   "source": [
    "### 2. Linear and logistic regression"
   ]
  },
  {
   "cell_type": "code",
   "execution_count": 21,
   "metadata": {},
   "outputs": [
    {
     "data": {
      "image/png": "[encoded data removed]",
      "text/plain": [
       "<Figure size 432x288 with 1 Axes>"
      ]
     },
     "metadata": {
      "needs_background": "light"
     },
     "output_type": "display_data"
    }
   ],
   "source": [
    "import matplotlib.pyplot as plt\n",
    "# Number of data objects\n",
    "N = 100\n",
    "\n",
    "# Attribute values\n",
    "X = np.mat(range(N)).T\n",
    "\n",
    "# Noise\n",
    "eps_mean, eps_std = 0, 0.1\n",
    "eps = np.mat(eps_std*np.random.randn(N) + eps_mean).T\n",
    "\n",
    "# Model parameters\n",
    "w0 = -0.5\n",
    "w1 = 0.01\n",
    "\n",
    "# Outputs\n",
    "y = w0 + w1*X + eps\n",
    "\n",
    "# Make a scatter plot\n",
    "plt.figure()\n",
    "plt.plot(X.A,y.A,'o')\n",
    "plt.xlabel('X'); plt.ylabel('y')\n",
    "\n",
    "plt.show()"
   ]
  },
  {
   "cell_type": "code",
   "execution_count": 22,
   "metadata": {},
   "outputs": [
    {
     "data": {
      "image/png": "[encoded data removed]",
      "text/plain": [
       "<Figure size 432x288 with 1 Axes>"
      ]
     },
     "metadata": {
      "needs_background": "light"
     },
     "output_type": "display_data"
    }
   ],
   "source": [
    "N=100\n",
    "X=np.arange(N)\n",
    "ebs=np.random.normal(0,.1,N)\n",
    "# Model parameters\n",
    "w0 = -0.5\n",
    "w1 = 0.01\n",
    "y = w0 + w1*X + ebs\n",
    "plt.scatter(X,y,c=\"r\")\n",
    "plt.xlabel('X'); plt.ylabel('y');"
   ]
  },
  {
   "cell_type": "code",
   "execution_count": 23,
   "metadata": {},
   "outputs": [],
   "source": [
    "import sklearn.linear_model as lm\n",
    "# Fit ordinary least squares regression model\n",
    "model = lm.LinearRegression(fit_intercept=True)\n",
    "model = model.fit(X.reshape(-1, 1),y)\n",
    "\n",
    "y_true=y-ebs\n",
    "y_est = model.predict(X.reshape(-1, 1))\n",
    "# Or equivalently:\n",
    "#y_est = model.intercept_ + X * model.coef_\n"
   ]
  },
  {
   "cell_type": "code",
   "execution_count": 24,
   "metadata": {},
   "outputs": [
    {
     "data": {
      "image/png": "[encoded data removed]",
      "text/plain": [
       "<Figure size 432x288 with 1 Axes>"
      ]
     },
     "metadata": {
      "needs_background": "light"
     },
     "output_type": "display_data"
    }
   ],
   "source": [
    "# Plot original data and the model output\n",
    "\n",
    "plt.plot(X,y,'.')\n",
    "plt.plot(X,y_true,'-')\n",
    "plt.plot(X,y_est,'-')\n",
    "plt.xlabel('X'); plt.ylabel('y')\n",
    "plt.legend(['Training data', 'Data generator', 'Regression fit (model)'])\n",
    "\n",
    "plt.show()"
   ]
  },
  {
   "cell_type": "code",
   "execution_count": 186,
   "metadata": {
    "scrolled": true
   },
   "outputs": [
    {
     "name": "stdout",
     "output_type": "stream",
     "text": [
      "(5, 50)\n"
     ]
    },
    {
     "data": {
      "image/png": "[encoded data removed]",
      "text/plain": [
       "<Figure size 432x288 with 1 Axes>"
      ]
     },
     "metadata": {
      "needs_background": "light"
     },
     "output_type": "display_data"
    }
   ],
   "source": [
    "# Parameters\n",
    "Kd = 5  # no of terms for data generator\n",
    "Km = 3  # no of terms for regression model\n",
    "N = 50  # no of data objects to train a model\n",
    "Xe =  np.linspace(-2,2,1000) # X values to visualize true data and model\n",
    "eps_mean, eps_std = 0, 0.5          # noise parameters\n",
    "\n",
    "# Generate dataset (with noise)\n",
    "X = np.linspace(-2,2,N)\n",
    "Xd = [np.power(X, n) for n in range(1,Kd+1)]\n",
    "eps = np.random.normal(eps_mean,eps_std,N)\n",
    "w = [-np.power(-.9,n) for n in range(1,Kd+2)]\n",
    "#y=w[0]+w[1:]*Xd+eps\n",
    "print(np.array(Xd).shape)\n",
    "\n",
    "# Generate dataset (with noise)\n",
    "y=w[0]+np.dot(np.array(w[1:]).reshape(1,-1),np.array(Xd))+eps\n",
    "\n",
    "\n",
    "# True data generator (assuming no noise)\n",
    "Xde=[np.power(Xe, n) for n in range(1,Kd+1)]\n",
    "y_true = w[0]+np.dot(np.array(w[1:]).reshape(1,-1),np.array(Xde))\n",
    "\n",
    "# Fit ordinary least squares regression model\n",
    "Xm = [np.power(X, n) for n in range(1,Km+1)]\n",
    "np.array(Xm)\n",
    "\n",
    "# Fit ordinary least squares regression model\n",
    "Xm = [np.power(X,n) for n in range(1,Km+1)]\n",
    "model = lm.LinearRegression()\n",
    "model = model.fit(np.mat(Xm).T,y.T)\n",
    "\n",
    "# Predict values\n",
    "Xme = [np.power(Xe,n) for n in range(1,Km+1)]\n",
    "y_est = model.predict(np.mat(Xme).T)\n",
    "\n",
    "# Plot original data and the model output\n",
    "f = plt.figure()\n",
    "plt.plot(X,y.flatten(),'.')\n",
    "plt.plot(Xe,y_true.flatten(),'-')\n",
    "plt.plot(Xe,y_est.flatten(),'-')\n",
    "plt.xlabel('X'); plt.ylabel('y'); plt.ylim(-2,8)\n",
    "plt.legend(['Training data', 'Data generator K={0}'.format(Kd), 'Regression fit (model) K={0}'.format(Km)])\n",
    "\n",
    "plt.show()"
   ]
  }
 ],
 "metadata": {
  "kernelspec": {
   "display_name": "Python 3",
   "language": "python",
   "name": "python3"
  },
  "language_info": {
   "codemirror_mode": {
    "name": "ipython",
    "version": 3
   },
   "file_extension": ".py",
   "mimetype": "text/x-python",
   "name": "python",
   "nbconvert_exporter": "python",
   "pygments_lexer": "ipython3",
   "version": "3.7.4"
  }
 },
 "nbformat": 4,
 "nbformat_minor": 2
}
